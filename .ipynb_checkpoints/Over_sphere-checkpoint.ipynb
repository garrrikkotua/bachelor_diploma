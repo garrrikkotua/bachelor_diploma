{
 "cells": [
  {
   "cell_type": "code",
   "execution_count": 109,
   "metadata": {},
   "outputs": [],
   "source": [
    "import numpy as np\n",
    "import pandas as pd"
   ]
  },
  {
   "cell_type": "markdown",
   "metadata": {},
   "source": [
    "# Параметры "
   ]
  },
  {
   "cell_type": "code",
   "execution_count": 110,
   "metadata": {},
   "outputs": [],
   "source": [
    "L = 1.5 # длина в м\n",
    "R = 1.5 # радиус\n",
    "E = 7e10  # модуль Юнга\n",
    "ro = 2700  # плотоность алюминия\n",
    "nu = 0.33  # коэффицент Пуассона\n",
    "G = E / (2 * (1 + nu))  # модуль сдвига\n",
    "h = 0.0015   # тодщина пластины\n",
    "D = (E * h ** 3) / (12 * (1 - nu ** 2))  # жесткость из уравнения колебания\n",
    "beta = 0.01 # - коэф потерь\n",
    "c = 340"
   ]
  },
  {
   "cell_type": "markdown",
   "metadata": {},
   "source": [
    "# Данные Bies"
   ]
  },
  {
   "cell_type": "code",
   "execution_count": 111,
   "metadata": {},
   "outputs": [],
   "source": [
    "df = pd.read_csv('Bies_TBL_Data.csv')\n",
    "df['P^2'] = 4 * 10 ** (df['Lterz'] / 10 - 10)\n",
    "df['w'] = 2 * np.pi * df['Freq']"
   ]
  },
  {
   "cell_type": "code",
   "execution_count": 112,
   "metadata": {},
   "outputs": [],
   "source": [
    "def get_params(ind):\n",
    "    return dict(df.iloc[ind])"
   ]
  },
  {
   "cell_type": "markdown",
   "metadata": {},
   "source": [
    "# Функции"
   ]
  },
  {
   "cell_type": "markdown",
   "metadata": {},
   "source": [
    "Векторизуем по m1 и m2 - они могут быть векторами. "
   ]
  },
  {
   "cell_type": "code",
   "execution_count": 113,
   "metadata": {},
   "outputs": [],
   "source": [
    "def int1(L, m1, lam1, w, Uph):\n",
    "    num1 = (((-1) ** (m1 + 1)) * ((np.pi * L * m1) ** 2) * np.exp(-L/lam1 - 1j*L*w/Uph) + (L ** 5) * (Uph + 1j*lam1*w)**3 / \n",
    "            (2 * (Uph * lam1) ** 3) + (np.pi ** 2) * (L*m1)**3 / (2*lam1) + (1j * ((np.pi * m1) ** 2) * w * L **3) / (2 * Uph) +\n",
    "           (np.pi * L * m1) ** 2)\n",
    "    den1 = ((L**2) * (1/lam1 + 1j*w/Uph)**2 + (np.pi * m1) ** 2) ** 2\n",
    "    \n",
    "    num2 = (((-1) ** (m1 + 1)) * ((np.pi * L * m1) ** 2) * np.exp(-L/lam1 + 1j*L*w/Uph) + (L ** 5) * (Uph - 1j*lam1*w)**3 / \n",
    "            (2 * (Uph * lam1) ** 3) + (np.pi ** 2) * (L*m1)**3 / (2*lam1) - (1j * ((np.pi * m1) ** 2) * w * L **3) / (2 * Uph) +\n",
    "           (np.pi * L * m1) ** 2)\n",
    "    den2 = ((L**2) * (1/lam1 - 1j*w/Uph)**2 + (np.pi * m1) ** 2) ** 2\n",
    "    return num1 / den1 + num2 / den2"
   ]
  },
  {
   "cell_type": "code",
   "execution_count": 114,
   "metadata": {},
   "outputs": [],
   "source": [
    "def int2(R, m2, lam2):\n",
    "    return (2 * np.pi * lam2 * R ** 5 - 2 * (R ** 4) * lam2 ** 2 + 2 * (R ** 4) * (lam2 ** 2) * np.exp(-2*np.pi * R / lam2) + \n",
    "           2*np.pi*((R*lam2) ** 3) * (m2)**2) / (R**2 + (lam2*m2)**2) **2"
   ]
  },
  {
   "cell_type": "code",
   "execution_count": 115,
   "metadata": {},
   "outputs": [],
   "source": [
    "def octave_width(w):\n",
    "    return 0.23 * w"
   ]
  },
  {
   "cell_type": "code",
   "execution_count": 116,
   "metadata": {},
   "outputs": [],
   "source": [
    "# w - циклическая\n",
    "def full_int(m1, m2, lam1, lam2, w, Uph, p_sq):\n",
    "    coef = (4 / (np.pi * R * L) ** 2) * (p_sq / octave_width(w))\n",
    "    return coef * np.real(np.outer(int1(L, m1, lam1, w, Uph), int2(R, m2, lam2)))"
   ]
  },
  {
   "cell_type": "code",
   "execution_count": 117,
   "metadata": {},
   "outputs": [],
   "source": [
    "# m1 - вниз, m2 - вправо\n",
    "def B_coef(m1, m2, lam1, lam2, w, Uph, p_sq):\n",
    "    m1v, m2v = np.meshgrid(m1, m2, indexing='ij')\n",
    "    den = (D * ((m1v * np.pi /  L) ** 2 + (m2v / R) ** 2) - ((m1v * np.pi /  L) ** 2) / R - ro * h * (w ** 2)) ** 2 + (beta * w) ** 2\n",
    "    return full_int(m1, m2, lam1, lam2, w, Uph, p_sq) / den"
   ]
  },
  {
   "cell_type": "code",
   "execution_count": 118,
   "metadata": {},
   "outputs": [],
   "source": [
    "# h -> p\n",
    "def func_phi_r(m1, m2, f, p, w):\n",
    "    m1v, m2v, fv, pv = np.meshgrid(m1, m2, f, p, indexing='ij')\n",
    "    k = w / c\n",
    "    coef = (w ** 2) * 8 * ((np.pi * L * m1v) ** 2) * (R ** 4) * (pv ** 3)\n",
    "    num = ((-1) ** (m1v + 1) * np.cos(L * pv * np.cos(fv)) + 1) * (np.sin(fv) ** 2) * (np.sin(np.pi * R * pv * np.sin(fv)))\n",
    "    den = np.sqrt(k ** 2 - pv ** 2) * ((L*pv*np.cos(fv)) ** 2 - (np.pi * m1v) ** 2) ** 2 * ((R*pv*np.sin(fv)) ** 2 - m2v ** 2) ** 2\n",
    "    return coef * (num / den)"
   ]
  },
  {
   "cell_type": "code",
   "execution_count": 119,
   "metadata": {},
   "outputs": [],
   "source": [
    "def phi_and_r(w, points=100):\n",
    "    return np.linspace(0, 2 * np.pi, points), np.linspace(0, w / c, points)"
   ]
  },
  {
   "cell_type": "code",
   "execution_count": 120,
   "metadata": {},
   "outputs": [],
   "source": [
    "def integrant(lam1, lam2, w, Uph, p_sq):\n",
    "    phi, r = phi_and_r(w)\n",
    "    m1 = np.arange(1, 100)\n",
    "    m2 = np.arange(1, 100)\n",
    "    func = func_phi_r(m1, m2, phi, r, w)\n",
    "    b = B_coef(m1, m2, lam1, lam2, w, Uph, p_sq)\n",
    "    final_func = np.tensordot(b, func, 2)\n",
    "    return final_func"
   ]
  },
  {
   "cell_type": "markdown",
   "metadata": {},
   "source": [
    "# Считаем поточечно "
   ]
  },
  {
   "cell_type": "code",
   "execution_count": 202,
   "metadata": {},
   "outputs": [],
   "source": [
    "__, lam1, lam2, __, p_sq, Uph, w = get_params(0).values()"
   ]
  },
  {
   "cell_type": "code",
   "execution_count": 223,
   "metadata": {},
   "outputs": [],
   "source": [
    "def func(phi, r, lam1, lam2, w, Uph, p_sq):\n",
    "    m1 = 1\n",
    "    m2 = 1\n",
    "    k = w / c\n",
    "    coef = (w ** 2) * 8 * ((np.pi * L * m1) ** 2) * (R ** 4) * (r ** 3)\n",
    "    num1 = ((-1) ** (m1 + 1)) * np.cos(L * r * np.cos(phi)) + 1\n",
    "    num2 = np.sin(phi) ** 2\n",
    "    num3 = np.sin(np.pi * R * r * np.sin(phi)) ** 2\n",
    "    den1 = np.sqrt(k ** 2 - r ** 2)\n",
    "    den2 = ((L * r * np.cos(phi)) ** 2 - (np.pi * m1) ** 2) ** 2\n",
    "    den3 = ((R * r * np.sin(phi)) ** 2 - m2 ** 2) ** 2\n",
    "    num = coef * num1 * num2 * num3\n",
    "    den = den1 * den2 * den3\n",
    "    den = 1 / den\n",
    "    b = B_coef(m1, m2, lam1, lam2, w, Uph, p_sq)\n",
    "    return np.sum(b * (np.outer(coef * num, den)), keepdims=False)"
   ]
  },
  {
   "cell_type": "code",
   "execution_count": 224,
   "metadata": {},
   "outputs": [],
   "source": [
    "def vec_func(phi, r, lam1, lam2, w, Uph, p_sq):\n",
    "    return np.array([func(f, rad, lam1, lam2, w, Uph, p_sq) for f, rad in zip(phi, r)])"
   ]
  },
  {
   "cell_type": "code",
   "execution_count": 225,
   "metadata": {},
   "outputs": [
    {
     "data": {
      "text/plain": [
       "2.1562205954952068e-11"
      ]
     },
     "execution_count": 225,
     "metadata": {},
     "output_type": "execute_result"
    }
   ],
   "source": [
    "func(0.5, 0.3, lam1, lam2, w, Uph, p_sq)"
   ]
  },
  {
   "cell_type": "code",
   "execution_count": 127,
   "metadata": {},
   "outputs": [],
   "source": [
    "import quadpy"
   ]
  },
  {
   "cell_type": "code",
   "execution_count": 193,
   "metadata": {},
   "outputs": [],
   "source": [
    "scheme = quadpy.c2.schemes['sommariva_52']()\n",
    "val = scheme.integrate(\n",
    "    lambda x: vec_func(x[0], x[1], lam1, lam2, w, Uph, p_sq),\n",
    "    quadpy.c2.rectangle_points([0, 2*np.pi], [0, w/c]),\n",
    ")"
   ]
  },
  {
   "cell_type": "code",
   "execution_count": 194,
   "metadata": {},
   "outputs": [
    {
     "data": {
      "text/plain": [
       "-2.5601026868662913e-08"
      ]
     },
     "execution_count": 194,
     "metadata": {},
     "output_type": "execute_result"
    }
   ],
   "source": [
    "val"
   ]
  },
  {
   "cell_type": "code",
   "execution_count": 195,
   "metadata": {},
   "outputs": [
    {
     "data": {
      "text/plain": [
       "1.162e-15"
      ]
     },
     "execution_count": 195,
     "metadata": {},
     "output_type": "execute_result"
    }
   ],
   "source": [
    "scheme.test_tolerance"
   ]
  },
  {
   "cell_type": "code",
   "execution_count": 216,
   "metadata": {},
   "outputs": [
    {
     "data": {
      "text/html": [
       "<div>\n",
       "<style scoped>\n",
       "    .dataframe tbody tr th:only-of-type {\n",
       "        vertical-align: middle;\n",
       "    }\n",
       "\n",
       "    .dataframe tbody tr th {\n",
       "        vertical-align: top;\n",
       "    }\n",
       "\n",
       "    .dataframe thead th {\n",
       "        text-align: right;\n",
       "    }\n",
       "</style>\n",
       "<table border=\"1\" class=\"dataframe\">\n",
       "  <thead>\n",
       "    <tr style=\"text-align: right;\">\n",
       "      <th></th>\n",
       "      <th>Freq</th>\n",
       "      <th>Lterz</th>\n",
       "      <th>Uph</th>\n",
       "      <th>Lambda1</th>\n",
       "      <th>Lambda2</th>\n",
       "      <th>P^2</th>\n",
       "      <th>w</th>\n",
       "    </tr>\n",
       "  </thead>\n",
       "  <tbody>\n",
       "    <tr>\n",
       "      <th>0</th>\n",
       "      <td>31.5</td>\n",
       "      <td>101.8</td>\n",
       "      <td>97.02</td>\n",
       "      <td>0.12900</td>\n",
       "      <td>0.015830</td>\n",
       "      <td>6.054245</td>\n",
       "      <td>197.920337</td>\n",
       "    </tr>\n",
       "    <tr>\n",
       "      <th>1</th>\n",
       "      <td>40.0</td>\n",
       "      <td>102.9</td>\n",
       "      <td>101.80</td>\n",
       "      <td>0.12950</td>\n",
       "      <td>0.015900</td>\n",
       "      <td>7.799378</td>\n",
       "      <td>251.327412</td>\n",
       "    </tr>\n",
       "    <tr>\n",
       "      <th>2</th>\n",
       "      <td>50.0</td>\n",
       "      <td>103.8</td>\n",
       "      <td>106.40</td>\n",
       "      <td>0.13020</td>\n",
       "      <td>0.016010</td>\n",
       "      <td>9.595332</td>\n",
       "      <td>314.159265</td>\n",
       "    </tr>\n",
       "    <tr>\n",
       "      <th>3</th>\n",
       "      <td>63.0</td>\n",
       "      <td>104.8</td>\n",
       "      <td>111.40</td>\n",
       "      <td>0.13140</td>\n",
       "      <td>0.016180</td>\n",
       "      <td>12.079807</td>\n",
       "      <td>395.840674</td>\n",
       "    </tr>\n",
       "    <tr>\n",
       "      <th>4</th>\n",
       "      <td>80.0</td>\n",
       "      <td>105.9</td>\n",
       "      <td>116.90</td>\n",
       "      <td>0.13330</td>\n",
       "      <td>0.016450</td>\n",
       "      <td>15.561806</td>\n",
       "      <td>502.654825</td>\n",
       "    </tr>\n",
       "    <tr>\n",
       "      <th>5</th>\n",
       "      <td>100.0</td>\n",
       "      <td>106.8</td>\n",
       "      <td>122.20</td>\n",
       "      <td>0.13610</td>\n",
       "      <td>0.016850</td>\n",
       "      <td>19.145204</td>\n",
       "      <td>628.318531</td>\n",
       "    </tr>\n",
       "    <tr>\n",
       "      <th>6</th>\n",
       "      <td>125.0</td>\n",
       "      <td>107.8</td>\n",
       "      <td>127.80</td>\n",
       "      <td>0.14020</td>\n",
       "      <td>0.017450</td>\n",
       "      <td>24.102383</td>\n",
       "      <td>785.398163</td>\n",
       "    </tr>\n",
       "    <tr>\n",
       "      <th>7</th>\n",
       "      <td>160.0</td>\n",
       "      <td>108.9</td>\n",
       "      <td>134.30</td>\n",
       "      <td>0.14730</td>\n",
       "      <td>0.018450</td>\n",
       "      <td>31.049885</td>\n",
       "      <td>1005.309649</td>\n",
       "    </tr>\n",
       "    <tr>\n",
       "      <th>8</th>\n",
       "      <td>200.0</td>\n",
       "      <td>109.8</td>\n",
       "      <td>140.40</td>\n",
       "      <td>0.15680</td>\n",
       "      <td>0.019790</td>\n",
       "      <td>38.199703</td>\n",
       "      <td>1256.637061</td>\n",
       "    </tr>\n",
       "    <tr>\n",
       "      <th>9</th>\n",
       "      <td>250.0</td>\n",
       "      <td>110.8</td>\n",
       "      <td>146.80</td>\n",
       "      <td>0.17010</td>\n",
       "      <td>0.021660</td>\n",
       "      <td>48.090577</td>\n",
       "      <td>1570.796327</td>\n",
       "    </tr>\n",
       "    <tr>\n",
       "      <th>10</th>\n",
       "      <td>315.0</td>\n",
       "      <td>111.8</td>\n",
       "      <td>153.70</td>\n",
       "      <td>0.18870</td>\n",
       "      <td>0.024250</td>\n",
       "      <td>60.542450</td>\n",
       "      <td>1979.203372</td>\n",
       "    </tr>\n",
       "    <tr>\n",
       "      <th>11</th>\n",
       "      <td>400.0</td>\n",
       "      <td>112.8</td>\n",
       "      <td>161.20</td>\n",
       "      <td>0.21290</td>\n",
       "      <td>0.027600</td>\n",
       "      <td>76.218429</td>\n",
       "      <td>2513.274123</td>\n",
       "    </tr>\n",
       "    <tr>\n",
       "      <th>12</th>\n",
       "      <td>500.0</td>\n",
       "      <td>113.7</td>\n",
       "      <td>168.50</td>\n",
       "      <td>0.23770</td>\n",
       "      <td>0.030990</td>\n",
       "      <td>93.769153</td>\n",
       "      <td>3141.592654</td>\n",
       "    </tr>\n",
       "    <tr>\n",
       "      <th>13</th>\n",
       "      <td>630.0</td>\n",
       "      <td>114.7</td>\n",
       "      <td>176.10</td>\n",
       "      <td>0.25940</td>\n",
       "      <td>0.033920</td>\n",
       "      <td>118.048369</td>\n",
       "      <td>3958.406744</td>\n",
       "    </tr>\n",
       "    <tr>\n",
       "      <th>14</th>\n",
       "      <td>800.0</td>\n",
       "      <td>115.7</td>\n",
       "      <td>183.90</td>\n",
       "      <td>0.26770</td>\n",
       "      <td>0.035000</td>\n",
       "      <td>148.614092</td>\n",
       "      <td>5026.548246</td>\n",
       "    </tr>\n",
       "    <tr>\n",
       "      <th>15</th>\n",
       "      <td>1000.0</td>\n",
       "      <td>116.5</td>\n",
       "      <td>190.20</td>\n",
       "      <td>0.25630</td>\n",
       "      <td>0.033450</td>\n",
       "      <td>178.673437</td>\n",
       "      <td>6283.185307</td>\n",
       "    </tr>\n",
       "    <tr>\n",
       "      <th>16</th>\n",
       "      <td>1250.0</td>\n",
       "      <td>117.3</td>\n",
       "      <td>194.60</td>\n",
       "      <td>0.22860</td>\n",
       "      <td>0.029780</td>\n",
       "      <td>214.812719</td>\n",
       "      <td>7853.981634</td>\n",
       "    </tr>\n",
       "    <tr>\n",
       "      <th>17</th>\n",
       "      <td>1600.0</td>\n",
       "      <td>118.2</td>\n",
       "      <td>195.50</td>\n",
       "      <td>0.18830</td>\n",
       "      <td>0.024480</td>\n",
       "      <td>264.277379</td>\n",
       "      <td>10053.096491</td>\n",
       "    </tr>\n",
       "    <tr>\n",
       "      <th>18</th>\n",
       "      <td>2000.0</td>\n",
       "      <td>118.9</td>\n",
       "      <td>192.60</td>\n",
       "      <td>0.15130</td>\n",
       "      <td>0.019660</td>\n",
       "      <td>310.498847</td>\n",
       "      <td>12566.370614</td>\n",
       "    </tr>\n",
       "    <tr>\n",
       "      <th>19</th>\n",
       "      <td>2500.0</td>\n",
       "      <td>119.5</td>\n",
       "      <td>187.30</td>\n",
       "      <td>0.11860</td>\n",
       "      <td>0.015410</td>\n",
       "      <td>356.500375</td>\n",
       "      <td>15707.963268</td>\n",
       "    </tr>\n",
       "    <tr>\n",
       "      <th>20</th>\n",
       "      <td>3150.0</td>\n",
       "      <td>120.1</td>\n",
       "      <td>180.80</td>\n",
       "      <td>0.09116</td>\n",
       "      <td>0.011840</td>\n",
       "      <td>409.317197</td>\n",
       "      <td>19792.033718</td>\n",
       "    </tr>\n",
       "    <tr>\n",
       "      <th>21</th>\n",
       "      <td>4000.0</td>\n",
       "      <td>120.6</td>\n",
       "      <td>173.90</td>\n",
       "      <td>0.06915</td>\n",
       "      <td>0.008981</td>\n",
       "      <td>459.261449</td>\n",
       "      <td>25132.741229</td>\n",
       "    </tr>\n",
       "    <tr>\n",
       "      <th>22</th>\n",
       "      <td>5000.0</td>\n",
       "      <td>121.0</td>\n",
       "      <td>167.90</td>\n",
       "      <td>0.05345</td>\n",
       "      <td>0.006941</td>\n",
       "      <td>503.570165</td>\n",
       "      <td>31415.926536</td>\n",
       "    </tr>\n",
       "    <tr>\n",
       "      <th>23</th>\n",
       "      <td>6300.0</td>\n",
       "      <td>121.4</td>\n",
       "      <td>162.50</td>\n",
       "      <td>0.04104</td>\n",
       "      <td>0.005330</td>\n",
       "      <td>552.153706</td>\n",
       "      <td>39584.067435</td>\n",
       "    </tr>\n",
       "    <tr>\n",
       "      <th>24</th>\n",
       "      <td>8000.0</td>\n",
       "      <td>121.8</td>\n",
       "      <td>157.70</td>\n",
       "      <td>0.03138</td>\n",
       "      <td>0.004075</td>\n",
       "      <td>605.424499</td>\n",
       "      <td>50265.482457</td>\n",
       "    </tr>\n",
       "    <tr>\n",
       "      <th>25</th>\n",
       "      <td>10000.0</td>\n",
       "      <td>122.2</td>\n",
       "      <td>154.20</td>\n",
       "      <td>0.02454</td>\n",
       "      <td>0.003187</td>\n",
       "      <td>663.834763</td>\n",
       "      <td>62831.853072</td>\n",
       "    </tr>\n",
       "    <tr>\n",
       "      <th>26</th>\n",
       "      <td>12500.0</td>\n",
       "      <td>122.5</td>\n",
       "      <td>151.40</td>\n",
       "      <td>0.01928</td>\n",
       "      <td>0.002504</td>\n",
       "      <td>711.311764</td>\n",
       "      <td>78539.816340</td>\n",
       "    </tr>\n",
       "    <tr>\n",
       "      <th>27</th>\n",
       "      <td>16000.0</td>\n",
       "      <td>122.9</td>\n",
       "      <td>149.30</td>\n",
       "      <td>0.01485</td>\n",
       "      <td>0.001928</td>\n",
       "      <td>779.937840</td>\n",
       "      <td>100530.964915</td>\n",
       "    </tr>\n",
       "    <tr>\n",
       "      <th>28</th>\n",
       "      <td>20000.0</td>\n",
       "      <td>123.1</td>\n",
       "      <td>147.90</td>\n",
       "      <td>0.01177</td>\n",
       "      <td>0.001528</td>\n",
       "      <td>816.695178</td>\n",
       "      <td>125663.706144</td>\n",
       "    </tr>\n",
       "  </tbody>\n",
       "</table>\n",
       "</div>"
      ],
      "text/plain": [
       "       Freq  Lterz     Uph  Lambda1   Lambda2         P^2              w\n",
       "0      31.5  101.8   97.02  0.12900  0.015830    6.054245     197.920337\n",
       "1      40.0  102.9  101.80  0.12950  0.015900    7.799378     251.327412\n",
       "2      50.0  103.8  106.40  0.13020  0.016010    9.595332     314.159265\n",
       "3      63.0  104.8  111.40  0.13140  0.016180   12.079807     395.840674\n",
       "4      80.0  105.9  116.90  0.13330  0.016450   15.561806     502.654825\n",
       "5     100.0  106.8  122.20  0.13610  0.016850   19.145204     628.318531\n",
       "6     125.0  107.8  127.80  0.14020  0.017450   24.102383     785.398163\n",
       "7     160.0  108.9  134.30  0.14730  0.018450   31.049885    1005.309649\n",
       "8     200.0  109.8  140.40  0.15680  0.019790   38.199703    1256.637061\n",
       "9     250.0  110.8  146.80  0.17010  0.021660   48.090577    1570.796327\n",
       "10    315.0  111.8  153.70  0.18870  0.024250   60.542450    1979.203372\n",
       "11    400.0  112.8  161.20  0.21290  0.027600   76.218429    2513.274123\n",
       "12    500.0  113.7  168.50  0.23770  0.030990   93.769153    3141.592654\n",
       "13    630.0  114.7  176.10  0.25940  0.033920  118.048369    3958.406744\n",
       "14    800.0  115.7  183.90  0.26770  0.035000  148.614092    5026.548246\n",
       "15   1000.0  116.5  190.20  0.25630  0.033450  178.673437    6283.185307\n",
       "16   1250.0  117.3  194.60  0.22860  0.029780  214.812719    7853.981634\n",
       "17   1600.0  118.2  195.50  0.18830  0.024480  264.277379   10053.096491\n",
       "18   2000.0  118.9  192.60  0.15130  0.019660  310.498847   12566.370614\n",
       "19   2500.0  119.5  187.30  0.11860  0.015410  356.500375   15707.963268\n",
       "20   3150.0  120.1  180.80  0.09116  0.011840  409.317197   19792.033718\n",
       "21   4000.0  120.6  173.90  0.06915  0.008981  459.261449   25132.741229\n",
       "22   5000.0  121.0  167.90  0.05345  0.006941  503.570165   31415.926536\n",
       "23   6300.0  121.4  162.50  0.04104  0.005330  552.153706   39584.067435\n",
       "24   8000.0  121.8  157.70  0.03138  0.004075  605.424499   50265.482457\n",
       "25  10000.0  122.2  154.20  0.02454  0.003187  663.834763   62831.853072\n",
       "26  12500.0  122.5  151.40  0.01928  0.002504  711.311764   78539.816340\n",
       "27  16000.0  122.9  149.30  0.01485  0.001928  779.937840  100530.964915\n",
       "28  20000.0  123.1  147.90  0.01177  0.001528  816.695178  125663.706144"
      ]
     },
     "execution_count": 216,
     "metadata": {},
     "output_type": "execute_result"
    }
   ],
   "source": [
    "df"
   ]
  },
  {
   "cell_type": "code",
   "execution_count": null,
   "metadata": {},
   "outputs": [],
   "source": []
  }
 ],
 "metadata": {
  "kernelspec": {
   "display_name": "Python 3",
   "language": "python",
   "name": "python3"
  },
  "language_info": {
   "codemirror_mode": {
    "name": "ipython",
    "version": 3
   },
   "file_extension": ".py",
   "mimetype": "text/x-python",
   "name": "python",
   "nbconvert_exporter": "python",
   "pygments_lexer": "ipython3",
   "version": "3.8.5"
  }
 },
 "nbformat": 4,
 "nbformat_minor": 4
}
