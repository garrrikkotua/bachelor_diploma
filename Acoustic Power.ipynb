{
 "cells": [
  {
   "cell_type": "code",
   "execution_count": 2,
   "metadata": {},
   "outputs": [],
   "source": [
    "import numpy as np\n",
    "from matplotlib import pyplot as plt"
   ]
  },
  {
   "cell_type": "code",
   "execution_count": 3,
   "metadata": {},
   "outputs": [],
   "source": [
    "step = 20\n",
    "nu = 0.3\n",
    "ro_v = 1.2\n",
    "c = 330\n",
    "plate = 1\n",
    "plate1 = 0\n",
    "# vibra_space\n",
    "#eigen_freq\n",
    "#acoust_space\n",
    "#upr_acoust\n",
    "#diff  - ?\n",
    "#non_uni"
   ]
  },
  {
   "cell_type": "code",
   "execution_count": 4,
   "metadata": {},
   "outputs": [],
   "source": [
    "shell = 0 # рассчитываем оболочку или нет\n",
    "R = np.inf # радиус оболочки (np.inf - прямая пластина)\n",
    "plate = 1\n",
    "plate1 = 0"
   ]
  },
  {
   "cell_type": "code",
   "execution_count": 5,
   "metadata": {},
   "outputs": [],
   "source": [
    "E = 7e10  # модуль Юнга\n",
    "ro = 2700  # плотоность алюминия\n",
    "G = E / (2 * (1 + nu))  # модуль сдвига\n",
    "L = 1.5  # L1  \n",
    "W = 1.5   # L2\n",
    "h = 0.002   # тодщина пластины\n",
    "D = (E * h ** 3) / (12 * (1 - nu ** 2))  # жесткость из уравнения колебания\n",
    "N_end = 10  # расчтеные моды\n",
    "M_end = 10\n",
    "#te\n",
    "q1_end = 2   # число шпангаутов\n",
    "q2_end = 9   # число стрингеров\n",
    "h_sh = 0.1 # высота шпангоута\n",
    "h_st = 0.02 # высота стрингера\n",
    "b_sh_st = 0.002 # толщина сечения стрингера и шпангоута\n",
    "S = N_end * M_end"
   ]
  },
  {
   "cell_type": "code",
   "execution_count": 6,
   "metadata": {},
   "outputs": [],
   "source": [
    "if shell == 0 and R < 10000:\n",
    "    plate1 = 1\n",
    "    plate = 0\n",
    "elif shell == 1:\n",
    "    W = 2 * np.pi * R\n",
    "    plate = 0\n",
    "    plate1 = 0"
   ]
  },
  {
   "cell_type": "markdown",
   "metadata": {},
   "source": [
    "# Считывание нагрузок"
   ]
  },
  {
   "cell_type": "code",
   "execution_count": 9,
   "metadata": {},
   "outputs": [],
   "source": [
    "siz = 0\n",
    "siz1 = 0\n",
    "f0 = np.array([])\n",
    "p = np.array([])\n",
    "x0 = np.array([])\n",
    "Len = np.array([])\n",
    "L1 = np.array([])\n",
    "L2 = np.array([])\n",
    "Uph = np.array([])"
   ]
  },
  {
   "cell_type": "markdown",
   "metadata": {},
   "source": [
    "# Моменты инерции для шпангоутов"
   ]
  },
  {
   "cell_type": "code",
   "execution_count": 10,
   "metadata": {},
   "outputs": [],
   "source": [
    "S_sh = h_sh * b_sh_st  # профиль шпангоута\n",
    "b_pan_sh = L / (q1_end + 1) # пролет шпангаута\n",
    "I_sh = b_sh_st * (h_sh ** 3) / 12 # момент инерции\n",
    "Ik_sh = ((b_sh_st ** 3) * h_sh / 3) * (1 - 0.63 * (b_sh_st / h_sh) + 0.052 * (b_sh_st / h_sh) ** 5)\n",
    "Iro_sh = 0.5 * (b_sh_st * h_sh) * (h_sh ** 2 + b_sh_st ** 2)\n",
    "S_pan_sh = b_pan_sh * h\n",
    "V_sh = S_pan_sh * (h / 2 + h_sh / 2) / (S_pan_sh + S_sh)\n",
    "A_sh = E * (I_sh + S_sh * V_sh ** 2)\n",
    "ma_sh = ro * S_sh"
   ]
  },
  {
   "cell_type": "markdown",
   "metadata": {},
   "source": [
    "# Моменты инерции для стрингеров"
   ]
  },
  {
   "cell_type": "code",
   "execution_count": 11,
   "metadata": {},
   "outputs": [],
   "source": [
    "S_st = h_st * b_sh_st # профиль стрингера\n",
    "b_pan_st = W / (q2_end + 1) # пролет стрингера\n",
    "I_st = b_sh_st * (h_st ** 3) / 12\n",
    "Ik_st = ((b_sh_st ** 3) * h_st / 3) * (1 - 0.63 * (b_sh_st / h_st) + 0.052 * (b_sh_st / h_st) ** 5)\n",
    "Iro_st = 0.5 * (b_sh_st * h_st) * (h_st ** 2 + b_sh_st ** 2)\n",
    "S_pan_st = b_pan_st * h\n",
    "V_st = S_pan_st * (h / 2 + h_st / 2) / (S_pan_st + S_st)\n",
    "A_st = E * (I_st + S_st * V_st ** 2)\n",
    "ma_st = ro * S_st"
   ]
  },
  {
   "cell_type": "code",
   "execution_count": 12,
   "metadata": {},
   "outputs": [],
   "source": [
    "# координаты стрингеров и шпангоутов\n",
    "x1 = np.arange(1, q1_end + 1) * b_pan_sh\n",
    "x2 = np.arange(1, q2_end + 1) * b_pan_st"
   ]
  },
  {
   "cell_type": "markdown",
   "metadata": {},
   "source": [
    "# Задаем пластину"
   ]
  },
  {
   "cell_type": "code",
   "execution_count": 13,
   "metadata": {},
   "outputs": [],
   "source": [
    "# функции для вычисления ki, kj\n",
    "def ku1(i):\n",
    "    return (np.pi * i) / L\n",
    "def ku2(j):\n",
    "    return plate * (np.pi * j) / W + plate1 * (np.pi * j) / W + shell * j / R"
   ]
  },
  {
   "cell_type": "code",
   "execution_count": 14,
   "metadata": {},
   "outputs": [],
   "source": [
    "# задаем матрицу оператора d^4/dx^4\n",
    "Z0_eig = np.zeros((S, S))\n",
    "qu0 = np.zeros((S, S))\n",
    "for i in range(1, M_end + 1):\n",
    "    for j in range(1 ,N_end + 1):\n",
    "        k = (i - 1) * N_end + j\n",
    "        ku = ku1(i) ** 4 + 2 * (ku1(i) * ku2(j)) ** 2 + ku2(j) ** 4\n",
    "        Z0_eig[k-1][k-1] = D * ku + (plate1 * E * h * ku1(i) ** 4) / (ku * R ** 2) +(shell * E * h * ku1(i) ** 4) / (ku * R ** 2)\n",
    "        qu0[k-1][k-1] = D * ku + (plate1 * E * h * ku1(i) ** 4) / (ku * R ** 2) + (shell * E * h * ku1(i) ** 4) / (ku * R ** 2)"
   ]
  },
  {
   "cell_type": "code",
   "execution_count": 15,
   "metadata": {},
   "outputs": [],
   "source": [
    "# задаем массовую матрицу\n",
    "Z0_eig_m = np.diag([ro * h] * S)"
   ]
  },
  {
   "cell_type": "code",
   "execution_count": 16,
   "metadata": {},
   "outputs": [],
   "source": [
    "W1 = np.diag([L / 2] * M_end)\n",
    "W2 = np.diag([W / 2] * N_end)"
   ]
  },
  {
   "cell_type": "markdown",
   "metadata": {},
   "source": [
    "# Обобщенные силы"
   ]
  },
  {
   "cell_type": "code",
   "execution_count": 18,
   "metadata": {},
   "outputs": [],
   "source": [
    "x1_end = step\n",
    "x2_end = step\n",
    "dx1 = L / step\n",
    "dx2 = W / step"
   ]
  },
  {
   "cell_type": "code",
   "execution_count": null,
   "metadata": {},
   "outputs": [],
   "source": [
    "U_res = np.zeros((x1_end ** 2 + x2_end, x1_end ** 2 + x2_end))\n",
    "for i1 in range(1, x1_end + 1):\n",
    "    for i3 in range(1, x1_end + 1):\n",
    "        for i2 in range(1, x2_end + 1):\n",
    "            for i4 in range(1, x2_end + 1):\n",
    "                ix1 = (i1 - 1) * (x1_end + 1) + i2\n",
    "                ix2 = (i3 - 1) * (x1_end + 1) + i4\n",
    "                x1a = (i1 - 1) * dx1\n",
    "                x2a = (i2 - 1) * dx2\n",
    "                x3a = (i3 - 1) * dx1\n",
    "                x4a = (i4 - 1) * dx2\n",
    "                U_res[ix1][ix2] = exp(-p1)"
   ]
  }
 ],
 "metadata": {
  "kernelspec": {
   "display_name": "Python 3",
   "language": "python",
   "name": "python3"
  },
  "language_info": {
   "codemirror_mode": {
    "name": "ipython",
    "version": 3
   },
   "file_extension": ".py",
   "mimetype": "text/x-python",
   "name": "python",
   "nbconvert_exporter": "python",
   "pygments_lexer": "ipython3",
   "version": "3.8.5"
  }
 },
 "nbformat": 4,
 "nbformat_minor": 4
}
