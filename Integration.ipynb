{
 "cells": [
  {
   "cell_type": "code",
   "execution_count": 2,
   "metadata": {},
   "outputs": [],
   "source": [
    "from sympy import *"
   ]
  },
  {
   "cell_type": "code",
   "execution_count": 3,
   "metadata": {},
   "outputs": [],
   "source": [
    "x1, x2, x1_s, x2_s = symbols(\"x_1, x_2, x_1^{'}, x_2^{'}\", real=True)"
   ]
  },
  {
   "cell_type": "code",
   "execution_count": 115,
   "metadata": {},
   "outputs": [],
   "source": [
    "lam1, lam2, Uph, w = symbols(\"\\Lambda_1, \\Lambda_2, U_{ph}, \\omega\", real=True)"
   ]
  },
  {
   "cell_type": "code",
   "execution_count": 5,
   "metadata": {},
   "outputs": [],
   "source": [
    "m1 = Symbol(\"m_1\", integer=True)\n",
    "m2 = Symbol(\"m_2\", integer=True)"
   ]
  },
  {
   "cell_type": "code",
   "execution_count": 6,
   "metadata": {},
   "outputs": [],
   "source": [
    "L, R = symbols(\"L, R\", real=True)"
   ]
  },
  {
   "cell_type": "markdown",
   "metadata": {},
   "source": [
    "# Проще"
   ]
  },
  {
   "cell_type": "code",
   "execution_count": 7,
   "metadata": {},
   "outputs": [],
   "source": [
    "q1, q2 = symbols(\"q_1, q2\")\n",
    "# q1 = 1/lam1 + Iw/Uph\n",
    "# q2 = 1/lam1 - Iw/Uph"
   ]
  },
  {
   "cell_type": "code",
   "execution_count": 8,
   "metadata": {},
   "outputs": [],
   "source": [
    "s1 = exp(x1_s * q1) * sin(m1*pi*x1_s / L)"
   ]
  },
  {
   "cell_type": "code",
   "execution_count": 9,
   "metadata": {},
   "outputs": [
    {
     "data": {
      "text/latex": [
       "$\\displaystyle e^{q_{1} x_1^{'}} \\sin{\\left(\\frac{\\pi m_{1} x_1^{'}}{L} \\right)}$"
      ],
      "text/plain": [
       "exp(q_1*x_1^{'})*sin(pi*m_1*x_1^{'}/L)"
      ]
     },
     "execution_count": 9,
     "metadata": {},
     "output_type": "execute_result"
    }
   ],
   "source": [
    "s1"
   ]
  },
  {
   "cell_type": "code",
   "execution_count": 10,
   "metadata": {},
   "outputs": [],
   "source": [
    "r1 = integrate(s1, (x1_s, 0, x1), conds='none')"
   ]
  },
  {
   "cell_type": "code",
   "execution_count": 11,
   "metadata": {},
   "outputs": [],
   "source": [
    "r1 = r1.simplify()"
   ]
  },
  {
   "cell_type": "code",
   "execution_count": 12,
   "metadata": {},
   "outputs": [],
   "source": [
    "s2 = exp(-x1 * q1) * sin(m1*pi*x1 / L) * r1"
   ]
  },
  {
   "cell_type": "code",
   "execution_count": 13,
   "metadata": {},
   "outputs": [
    {
     "data": {
      "text/latex": [
       "$\\displaystyle \\frac{L \\left(L q_{1} e^{q_{1} x_{1}} \\sin{\\left(\\frac{\\pi m_{1} x_{1}}{L} \\right)} - \\pi m_{1} e^{q_{1} x_{1}} \\cos{\\left(\\frac{\\pi m_{1} x_{1}}{L} \\right)} + \\pi m_{1}\\right) e^{- q_{1} x_{1}} \\sin{\\left(\\frac{\\pi m_{1} x_{1}}{L} \\right)}}{L^{2} q_{1}^{2} + \\pi^{2} m_{1}^{2}}$"
      ],
      "text/plain": [
       "L*(L*q_1*exp(q_1*x_1)*sin(pi*m_1*x_1/L) - pi*m_1*exp(q_1*x_1)*cos(pi*m_1*x_1/L) + pi*m_1)*exp(-q_1*x_1)*sin(pi*m_1*x_1/L)/(L**2*q_1**2 + pi**2*m_1**2)"
      ]
     },
     "execution_count": 13,
     "metadata": {},
     "output_type": "execute_result"
    }
   ],
   "source": [
    "s2"
   ]
  },
  {
   "cell_type": "code",
   "execution_count": 14,
   "metadata": {},
   "outputs": [],
   "source": [
    "r2 = integrate(s2, (x1, 0, L), conds='none')"
   ]
  },
  {
   "cell_type": "code",
   "execution_count": 15,
   "metadata": {},
   "outputs": [],
   "source": [
    "r2 = r2.simplify()\n",
    "r2 = r2.subs(q1, 1/lam1 + I*w/Uph)"
   ]
  },
  {
   "cell_type": "code",
   "execution_count": 16,
   "metadata": {},
   "outputs": [],
   "source": [
    "n,d = fraction(r2)"
   ]
  },
  {
   "cell_type": "code",
   "execution_count": 17,
   "metadata": {},
   "outputs": [],
   "source": [
    "n = n * exp(-L * (1/lam1 + I*w/Uph))"
   ]
  },
  {
   "cell_type": "code",
   "execution_count": 18,
   "metadata": {},
   "outputs": [],
   "source": [
    "n = n.simplify()"
   ]
  },
  {
   "cell_type": "code",
   "execution_count": 19,
   "metadata": {},
   "outputs": [],
   "source": [
    "d = d * exp(-L * (1/lam1 + I*w/Uph))"
   ]
  },
  {
   "cell_type": "code",
   "execution_count": 20,
   "metadata": {},
   "outputs": [
    {
     "data": {
      "text/latex": [
       "$\\displaystyle \\left(L^{2} \\left(\\frac{1}{\\Lambda_1} + \\frac{i \\omega}{U_{ph}}\\right)^{2} + \\pi^{2} m_{1}^{2}\\right)^{2}$"
      ],
      "text/plain": [
       "(L**2*(1/\\Lambda_1 + I*\\omega/U_{ph})**2 + pi**2*m_1**2)**2"
      ]
     },
     "execution_count": 20,
     "metadata": {},
     "output_type": "execute_result"
    }
   ],
   "source": [
    "d"
   ]
  },
  {
   "cell_type": "code",
   "execution_count": 21,
   "metadata": {},
   "outputs": [],
   "source": [
    "new_d = (L**2 * (1/lam1 + I*w/Uph)**2 + (pi*m1)**2)**2"
   ]
  },
  {
   "cell_type": "code",
   "execution_count": 22,
   "metadata": {},
   "outputs": [
    {
     "data": {
      "text/latex": [
       "$\\displaystyle \\left(L^{2} \\left(\\frac{1}{\\Lambda_1} + \\frac{i \\omega}{U_{ph}}\\right)^{2} + \\pi^{2} m_{1}^{2}\\right)^{2}$"
      ],
      "text/plain": [
       "(L**2*(1/\\Lambda_1 + I*\\omega/U_{ph})**2 + pi**2*m_1**2)**2"
      ]
     },
     "execution_count": 22,
     "metadata": {},
     "output_type": "execute_result"
    }
   ],
   "source": [
    "new_d"
   ]
  },
  {
   "cell_type": "code",
   "execution_count": 23,
   "metadata": {},
   "outputs": [],
   "source": [
    "r2 = n / new_d"
   ]
  },
  {
   "cell_type": "code",
   "execution_count": 24,
   "metadata": {},
   "outputs": [
    {
     "data": {
      "text/latex": [
       "$\\displaystyle \\frac{\\left(-1\\right)^{m_{1} + 1} \\pi^{2} L^{2} m_{1}^{2} e^{- \\frac{L}{\\Lambda_1} - \\frac{i L \\omega}{U_{ph}}} + \\frac{L^{5} \\left(U_{ph} + i \\Lambda_1 \\omega\\right)^{3}}{2 U_{ph}^{3} \\Lambda_1^{3}} + \\frac{\\pi^{2} L^{3} m_{1}^{2}}{2 \\Lambda_1} + \\frac{i \\pi^{2} L^{3} \\omega m_{1}^{2}}{2 U_{ph}} + \\pi^{2} L^{2} m_{1}^{2}}{\\left(L^{2} \\left(\\frac{1}{\\Lambda_1} + \\frac{i \\omega}{U_{ph}}\\right)^{2} + \\pi^{2} m_{1}^{2}\\right)^{2}}$"
      ],
      "text/plain": [
       "((-1)**(m_1 + 1)*pi**2*L**2*m_1**2*exp(-L/\\Lambda_1 - I*L*\\omega/U_{ph}) + L**5*(U_{ph} + I*\\Lambda_1*\\omega)**3/(2*U_{ph}**3*\\Lambda_1**3) + pi**2*L**3*m_1**2/(2*\\Lambda_1) + I*pi**2*L**3*\\omega*m_1**2/(2*U_{ph}) + pi**2*L**2*m_1**2)/(L**2*(1/\\Lambda_1 + I*\\omega/U_{ph})**2 + pi**2*m_1**2)**2"
      ]
     },
     "execution_count": 24,
     "metadata": {},
     "output_type": "execute_result"
    }
   ],
   "source": [
    "r2"
   ]
  },
  {
   "cell_type": "markdown",
   "metadata": {},
   "source": [
    "# Вторая половина первого"
   ]
  },
  {
   "cell_type": "code",
   "execution_count": 25,
   "metadata": {},
   "outputs": [],
   "source": [
    "s3 = exp(x1 * q2) * sin(m1*pi*x1 / L)"
   ]
  },
  {
   "cell_type": "code",
   "execution_count": 26,
   "metadata": {},
   "outputs": [
    {
     "data": {
      "text/latex": [
       "$\\displaystyle e^{q_{2} x_{1}} \\sin{\\left(\\frac{\\pi m_{1} x_{1}}{L} \\right)}$"
      ],
      "text/plain": [
       "exp(q2*x_1)*sin(pi*m_1*x_1/L)"
      ]
     },
     "execution_count": 26,
     "metadata": {},
     "output_type": "execute_result"
    }
   ],
   "source": [
    "s3"
   ]
  },
  {
   "cell_type": "code",
   "execution_count": 27,
   "metadata": {},
   "outputs": [],
   "source": [
    "r3 = integrate(s3, (x1, 0, x1_s), conds='none')"
   ]
  },
  {
   "cell_type": "code",
   "execution_count": 28,
   "metadata": {},
   "outputs": [],
   "source": [
    "r3 = r3.simplify()"
   ]
  },
  {
   "cell_type": "code",
   "execution_count": 29,
   "metadata": {},
   "outputs": [],
   "source": [
    "s4 = r3 * exp(-x1_s * q2) * sin(m1*pi*x1_s / L)"
   ]
  },
  {
   "cell_type": "code",
   "execution_count": 30,
   "metadata": {},
   "outputs": [
    {
     "data": {
      "text/latex": [
       "$\\displaystyle \\frac{L \\left(L q_{2} e^{q_{2} x_1^{'}} \\sin{\\left(\\frac{\\pi m_{1} x_1^{'}}{L} \\right)} - \\pi m_{1} e^{q_{2} x_1^{'}} \\cos{\\left(\\frac{\\pi m_{1} x_1^{'}}{L} \\right)} + \\pi m_{1}\\right) e^{- q_{2} x_1^{'}} \\sin{\\left(\\frac{\\pi m_{1} x_1^{'}}{L} \\right)}}{L^{2} q_{2}^{2} + \\pi^{2} m_{1}^{2}}$"
      ],
      "text/plain": [
       "L*(L*q2*exp(q2*x_1^{'})*sin(pi*m_1*x_1^{'}/L) - pi*m_1*exp(q2*x_1^{'})*cos(pi*m_1*x_1^{'}/L) + pi*m_1)*exp(-q2*x_1^{'})*sin(pi*m_1*x_1^{'}/L)/(L**2*q2**2 + pi**2*m_1**2)"
      ]
     },
     "execution_count": 30,
     "metadata": {},
     "output_type": "execute_result"
    }
   ],
   "source": [
    "s4"
   ]
  },
  {
   "cell_type": "code",
   "execution_count": 31,
   "metadata": {},
   "outputs": [],
   "source": [
    "r4 = integrate(s4, (x1_s, 0, L), conds='none')"
   ]
  },
  {
   "cell_type": "code",
   "execution_count": 32,
   "metadata": {},
   "outputs": [],
   "source": [
    "r4 = r4.simplify()"
   ]
  },
  {
   "cell_type": "code",
   "execution_count": 33,
   "metadata": {},
   "outputs": [],
   "source": [
    "r4 = r4.subs(q2, 1/lam1 - I*w/Uph)"
   ]
  },
  {
   "cell_type": "code",
   "execution_count": 34,
   "metadata": {},
   "outputs": [],
   "source": [
    "n1, d1 = fraction(r4)"
   ]
  },
  {
   "cell_type": "code",
   "execution_count": 35,
   "metadata": {},
   "outputs": [],
   "source": [
    "n1 = n1 * exp(-L * (1/lam1 - I*w/Uph))"
   ]
  },
  {
   "cell_type": "code",
   "execution_count": 36,
   "metadata": {},
   "outputs": [],
   "source": [
    "n1 = n1.simplify()"
   ]
  },
  {
   "cell_type": "code",
   "execution_count": 37,
   "metadata": {},
   "outputs": [
    {
     "data": {
      "text/latex": [
       "$\\displaystyle \\left(-1\\right)^{m_{1} + 1} \\pi^{2} L^{2} m_{1}^{2} e^{- \\frac{L}{\\Lambda_1} + \\frac{i L \\omega}{U_{ph}}} + \\frac{L^{5} \\left(U_{ph} - i \\Lambda_1 \\omega\\right)^{3}}{2 U_{ph}^{3} \\Lambda_1^{3}} + \\frac{\\pi^{2} L^{3} m_{1}^{2}}{2 \\Lambda_1} - \\frac{i \\pi^{2} L^{3} \\omega m_{1}^{2}}{2 U_{ph}} + \\pi^{2} L^{2} m_{1}^{2}$"
      ],
      "text/plain": [
       "(-1)**(m_1 + 1)*pi**2*L**2*m_1**2*exp(-L/\\Lambda_1 + I*L*\\omega/U_{ph}) + L**5*(U_{ph} - I*\\Lambda_1*\\omega)**3/(2*U_{ph}**3*\\Lambda_1**3) + pi**2*L**3*m_1**2/(2*\\Lambda_1) - I*pi**2*L**3*\\omega*m_1**2/(2*U_{ph}) + pi**2*L**2*m_1**2"
      ]
     },
     "execution_count": 37,
     "metadata": {},
     "output_type": "execute_result"
    }
   ],
   "source": [
    "n1"
   ]
  },
  {
   "cell_type": "code",
   "execution_count": 38,
   "metadata": {},
   "outputs": [],
   "source": [
    "new_d1 = (L**2 * (1/lam1 - I*w/Uph)**2 + (pi*m1)**2)**2"
   ]
  },
  {
   "cell_type": "code",
   "execution_count": 39,
   "metadata": {},
   "outputs": [],
   "source": [
    "r4 = n1 / new_d1"
   ]
  },
  {
   "cell_type": "code",
   "execution_count": 40,
   "metadata": {},
   "outputs": [
    {
     "data": {
      "text/latex": [
       "$\\displaystyle \\frac{\\left(-1\\right)^{m_{1} + 1} \\pi^{2} L^{2} m_{1}^{2} e^{- \\frac{L}{\\Lambda_1} + \\frac{i L \\omega}{U_{ph}}} + \\frac{L^{5} \\left(U_{ph} - i \\Lambda_1 \\omega\\right)^{3}}{2 U_{ph}^{3} \\Lambda_1^{3}} + \\frac{\\pi^{2} L^{3} m_{1}^{2}}{2 \\Lambda_1} - \\frac{i \\pi^{2} L^{3} \\omega m_{1}^{2}}{2 U_{ph}} + \\pi^{2} L^{2} m_{1}^{2}}{\\left(L^{2} \\left(\\frac{1}{\\Lambda_1} - \\frac{i \\omega}{U_{ph}}\\right)^{2} + \\pi^{2} m_{1}^{2}\\right)^{2}}$"
      ],
      "text/plain": [
       "((-1)**(m_1 + 1)*pi**2*L**2*m_1**2*exp(-L/\\Lambda_1 + I*L*\\omega/U_{ph}) + L**5*(U_{ph} - I*\\Lambda_1*\\omega)**3/(2*U_{ph}**3*\\Lambda_1**3) + pi**2*L**3*m_1**2/(2*\\Lambda_1) - I*pi**2*L**3*\\omega*m_1**2/(2*U_{ph}) + pi**2*L**2*m_1**2)/(L**2*(1/\\Lambda_1 - I*\\omega/U_{ph})**2 + pi**2*m_1**2)**2"
      ]
     },
     "execution_count": 40,
     "metadata": {},
     "output_type": "execute_result"
    }
   ],
   "source": [
    "r4"
   ]
  },
  {
   "cell_type": "code",
   "execution_count": 41,
   "metadata": {},
   "outputs": [],
   "source": [
    "r = r4 + r2"
   ]
  },
  {
   "cell_type": "code",
   "execution_count": 42,
   "metadata": {},
   "outputs": [
    {
     "data": {
      "text/latex": [
       "$\\displaystyle \\frac{\\left(-1\\right)^{m_{1} + 1} \\pi^{2} L^{2} m_{1}^{2} e^{- \\frac{L}{\\Lambda_1} - \\frac{i L \\omega}{U_{ph}}} + \\frac{L^{5} \\left(U_{ph} + i \\Lambda_1 \\omega\\right)^{3}}{2 U_{ph}^{3} \\Lambda_1^{3}} + \\frac{\\pi^{2} L^{3} m_{1}^{2}}{2 \\Lambda_1} + \\frac{i \\pi^{2} L^{3} \\omega m_{1}^{2}}{2 U_{ph}} + \\pi^{2} L^{2} m_{1}^{2}}{\\left(L^{2} \\left(\\frac{1}{\\Lambda_1} + \\frac{i \\omega}{U_{ph}}\\right)^{2} + \\pi^{2} m_{1}^{2}\\right)^{2}} + \\frac{\\left(-1\\right)^{m_{1} + 1} \\pi^{2} L^{2} m_{1}^{2} e^{- \\frac{L}{\\Lambda_1} + \\frac{i L \\omega}{U_{ph}}} + \\frac{L^{5} \\left(U_{ph} - i \\Lambda_1 \\omega\\right)^{3}}{2 U_{ph}^{3} \\Lambda_1^{3}} + \\frac{\\pi^{2} L^{3} m_{1}^{2}}{2 \\Lambda_1} - \\frac{i \\pi^{2} L^{3} \\omega m_{1}^{2}}{2 U_{ph}} + \\pi^{2} L^{2} m_{1}^{2}}{\\left(L^{2} \\left(\\frac{1}{\\Lambda_1} - \\frac{i \\omega}{U_{ph}}\\right)^{2} + \\pi^{2} m_{1}^{2}\\right)^{2}}$"
      ],
      "text/plain": [
       "((-1)**(m_1 + 1)*pi**2*L**2*m_1**2*exp(-L/\\Lambda_1 - I*L*\\omega/U_{ph}) + L**5*(U_{ph} + I*\\Lambda_1*\\omega)**3/(2*U_{ph}**3*\\Lambda_1**3) + pi**2*L**3*m_1**2/(2*\\Lambda_1) + I*pi**2*L**3*\\omega*m_1**2/(2*U_{ph}) + pi**2*L**2*m_1**2)/(L**2*(1/\\Lambda_1 + I*\\omega/U_{ph})**2 + pi**2*m_1**2)**2 + ((-1)**(m_1 + 1)*pi**2*L**2*m_1**2*exp(-L/\\Lambda_1 + I*L*\\omega/U_{ph}) + L**5*(U_{ph} - I*\\Lambda_1*\\omega)**3/(2*U_{ph}**3*\\Lambda_1**3) + pi**2*L**3*m_1**2/(2*\\Lambda_1) - I*pi**2*L**3*\\omega*m_1**2/(2*U_{ph}) + pi**2*L**2*m_1**2)/(L**2*(1/\\Lambda_1 - I*\\omega/U_{ph})**2 + pi**2*m_1**2)**2"
      ]
     },
     "execution_count": 42,
     "metadata": {},
     "output_type": "execute_result"
    }
   ],
   "source": [
    "r"
   ]
  },
  {
   "cell_type": "markdown",
   "metadata": {},
   "source": [
    "# Интеграл номер 2"
   ]
  },
  {
   "cell_type": "code",
   "execution_count": 43,
   "metadata": {},
   "outputs": [],
   "source": [
    "s5 = exp(x2_s / lam2) * cos(m2 * x2_s / R)"
   ]
  },
  {
   "cell_type": "code",
   "execution_count": 44,
   "metadata": {},
   "outputs": [
    {
     "data": {
      "text/latex": [
       "$\\displaystyle e^{\\frac{x_2^{'}}{\\Lambda_2}} \\cos{\\left(\\frac{m_{2} x_2^{'}}{R} \\right)}$"
      ],
      "text/plain": [
       "exp(x_2^{'}/\\Lambda_2)*cos(m_2*x_2^{'}/R)"
      ]
     },
     "execution_count": 44,
     "metadata": {},
     "output_type": "execute_result"
    }
   ],
   "source": [
    "s5"
   ]
  },
  {
   "cell_type": "code",
   "execution_count": 45,
   "metadata": {},
   "outputs": [],
   "source": [
    "r5 = integrate(s5, (x2_s, 0, x2), conds='none')"
   ]
  },
  {
   "cell_type": "code",
   "execution_count": 46,
   "metadata": {},
   "outputs": [],
   "source": [
    "r5 = r5.simplify()"
   ]
  },
  {
   "cell_type": "code",
   "execution_count": 47,
   "metadata": {},
   "outputs": [],
   "source": [
    "s6 = r5 * exp(-x2 / lam2) * cos(m2 * x2 / R)"
   ]
  },
  {
   "cell_type": "code",
   "execution_count": 48,
   "metadata": {},
   "outputs": [],
   "source": [
    "r6 = integrate(s6, (x2, 0, 2*pi*R), conds='none')"
   ]
  },
  {
   "cell_type": "code",
   "execution_count": 49,
   "metadata": {},
   "outputs": [],
   "source": [
    "r6 = r6.simplify()"
   ]
  },
  {
   "cell_type": "code",
   "execution_count": 50,
   "metadata": {},
   "outputs": [
    {
     "data": {
      "text/latex": [
       "$\\displaystyle \\frac{R^{3} \\Lambda_2 \\left(\\pi R^{2} e^{\\frac{2 \\pi R}{\\Lambda_2}} - R \\Lambda_2 e^{\\frac{2 \\pi R}{\\Lambda_2}} + R \\Lambda_2 + \\pi \\Lambda_2^{2} m_{2}^{2} e^{\\frac{2 \\pi R}{\\Lambda_2}}\\right) e^{- \\frac{2 \\pi R}{\\Lambda_2}}}{\\left(R^{2} + \\Lambda_2^{2} m_{2}^{2}\\right)^{2}}$"
      ],
      "text/plain": [
       "R**3*\\Lambda_2*(pi*R**2*exp(2*pi*R/\\Lambda_2) - R*\\Lambda_2*exp(2*pi*R/\\Lambda_2) + R*\\Lambda_2 + pi*\\Lambda_2**2*m_2**2*exp(2*pi*R/\\Lambda_2))*exp(-2*pi*R/\\Lambda_2)/(R**2 + \\Lambda_2**2*m_2**2)**2"
      ]
     },
     "execution_count": 50,
     "metadata": {},
     "output_type": "execute_result"
    }
   ],
   "source": [
    "r6"
   ]
  },
  {
   "cell_type": "code",
   "execution_count": 51,
   "metadata": {},
   "outputs": [],
   "source": [
    "r7 = 2 * r6"
   ]
  },
  {
   "cell_type": "code",
   "execution_count": 52,
   "metadata": {},
   "outputs": [],
   "source": [
    "n2, d2 = fraction(r7)"
   ]
  },
  {
   "cell_type": "code",
   "execution_count": 53,
   "metadata": {},
   "outputs": [],
   "source": [
    "n2 = n2 * exp(-2 * pi * R / lam2)"
   ]
  },
  {
   "cell_type": "code",
   "execution_count": 54,
   "metadata": {},
   "outputs": [],
   "source": [
    "n2 = n2.simplify()"
   ]
  },
  {
   "cell_type": "code",
   "execution_count": 55,
   "metadata": {},
   "outputs": [],
   "source": [
    "d2 = (R**2 + (lam2 * m2) ** 2) ** 2"
   ]
  },
  {
   "cell_type": "code",
   "execution_count": 56,
   "metadata": {},
   "outputs": [],
   "source": [
    "r7 = n2 / d2"
   ]
  },
  {
   "cell_type": "code",
   "execution_count": 57,
   "metadata": {},
   "outputs": [
    {
     "data": {
      "text/latex": [
       "$\\displaystyle \\frac{2 \\pi R^{5} \\Lambda_2 - 2 R^{4} \\Lambda_2^{2} + 2 R^{4} \\Lambda_2^{2} e^{- \\frac{2 \\pi R}{\\Lambda_2}} + 2 \\pi R^{3} \\Lambda_2^{3} m_{2}^{2}}{\\left(R^{2} + \\Lambda_2^{2} m_{2}^{2}\\right)^{2}}$"
      ],
      "text/plain": [
       "(2*pi*R**5*\\Lambda_2 - 2*R**4*\\Lambda_2**2 + 2*R**4*\\Lambda_2**2*exp(-2*pi*R/\\Lambda_2) + 2*pi*R**3*\\Lambda_2**3*m_2**2)/(R**2 + \\Lambda_2**2*m_2**2)**2"
      ]
     },
     "execution_count": 57,
     "metadata": {},
     "output_type": "execute_result"
    }
   ],
   "source": [
    "r7"
   ]
  },
  {
   "cell_type": "code",
   "execution_count": 58,
   "metadata": {},
   "outputs": [],
   "source": [
    "r_final = r * r7"
   ]
  },
  {
   "cell_type": "code",
   "execution_count": 59,
   "metadata": {},
   "outputs": [
    {
     "data": {
      "text/latex": [
       "$\\displaystyle \\frac{\\left(\\frac{\\left(-1\\right)^{m_{1} + 1} \\pi^{2} L^{2} m_{1}^{2} e^{- \\frac{L}{\\Lambda_1} - \\frac{i L \\omega}{U_{ph}}} + \\frac{L^{5} \\left(U_{ph} + i \\Lambda_1 \\omega\\right)^{3}}{2 U_{ph}^{3} \\Lambda_1^{3}} + \\frac{\\pi^{2} L^{3} m_{1}^{2}}{2 \\Lambda_1} + \\frac{i \\pi^{2} L^{3} \\omega m_{1}^{2}}{2 U_{ph}} + \\pi^{2} L^{2} m_{1}^{2}}{\\left(L^{2} \\left(\\frac{1}{\\Lambda_1} + \\frac{i \\omega}{U_{ph}}\\right)^{2} + \\pi^{2} m_{1}^{2}\\right)^{2}} + \\frac{\\left(-1\\right)^{m_{1} + 1} \\pi^{2} L^{2} m_{1}^{2} e^{- \\frac{L}{\\Lambda_1} + \\frac{i L \\omega}{U_{ph}}} + \\frac{L^{5} \\left(U_{ph} - i \\Lambda_1 \\omega\\right)^{3}}{2 U_{ph}^{3} \\Lambda_1^{3}} + \\frac{\\pi^{2} L^{3} m_{1}^{2}}{2 \\Lambda_1} - \\frac{i \\pi^{2} L^{3} \\omega m_{1}^{2}}{2 U_{ph}} + \\pi^{2} L^{2} m_{1}^{2}}{\\left(L^{2} \\left(\\frac{1}{\\Lambda_1} - \\frac{i \\omega}{U_{ph}}\\right)^{2} + \\pi^{2} m_{1}^{2}\\right)^{2}}\\right) \\left(2 \\pi R^{5} \\Lambda_2 - 2 R^{4} \\Lambda_2^{2} + 2 R^{4} \\Lambda_2^{2} e^{- \\frac{2 \\pi R}{\\Lambda_2}} + 2 \\pi R^{3} \\Lambda_2^{3} m_{2}^{2}\\right)}{\\left(R^{2} + \\Lambda_2^{2} m_{2}^{2}\\right)^{2}}$"
      ],
      "text/plain": [
       "(((-1)**(m_1 + 1)*pi**2*L**2*m_1**2*exp(-L/\\Lambda_1 - I*L*\\omega/U_{ph}) + L**5*(U_{ph} + I*\\Lambda_1*\\omega)**3/(2*U_{ph}**3*\\Lambda_1**3) + pi**2*L**3*m_1**2/(2*\\Lambda_1) + I*pi**2*L**3*\\omega*m_1**2/(2*U_{ph}) + pi**2*L**2*m_1**2)/(L**2*(1/\\Lambda_1 + I*\\omega/U_{ph})**2 + pi**2*m_1**2)**2 + ((-1)**(m_1 + 1)*pi**2*L**2*m_1**2*exp(-L/\\Lambda_1 + I*L*\\omega/U_{ph}) + L**5*(U_{ph} - I*\\Lambda_1*\\omega)**3/(2*U_{ph}**3*\\Lambda_1**3) + pi**2*L**3*m_1**2/(2*\\Lambda_1) - I*pi**2*L**3*\\omega*m_1**2/(2*U_{ph}) + pi**2*L**2*m_1**2)/(L**2*(1/\\Lambda_1 - I*\\omega/U_{ph})**2 + pi**2*m_1**2)**2)*(2*pi*R**5*\\Lambda_2 - 2*R**4*\\Lambda_2**2 + 2*R**4*\\Lambda_2**2*exp(-2*pi*R/\\Lambda_2) + 2*pi*R**3*\\Lambda_2**3*m_2**2)/(R**2 + \\Lambda_2**2*m_2**2)**2"
      ]
     },
     "execution_count": 59,
     "metadata": {},
     "output_type": "execute_result"
    }
   ],
   "source": [
    "r_final"
   ]
  },
  {
   "cell_type": "code",
   "execution_count": 60,
   "metadata": {},
   "outputs": [],
   "source": [
    "num = r_final.evalf(subs={m1: 1, m2: 1, L: 1.5, R: 1.5, lam1: 1, lam2: 1, w: 0.5, Uph: 100})"
   ]
  },
  {
   "cell_type": "code",
   "execution_count": 61,
   "metadata": {},
   "outputs": [
    {
     "data": {
      "text/latex": [
       "$\\displaystyle 3.60870640025485 + 1.4388661367536 \\cdot 10^{-25} i$"
      ],
      "text/plain": [
       "3.60870640025485 + 1.4388661367536e-25*I"
      ]
     },
     "execution_count": 61,
     "metadata": {},
     "output_type": "execute_result"
    }
   ],
   "source": [
    "num"
   ]
  },
  {
   "cell_type": "code",
   "execution_count": 62,
   "metadata": {},
   "outputs": [],
   "source": [
    "integr = exp(-abs(x1 - x1_s) / lam1) * exp(-abs(x2 - x2_s) / lam2) * exp(-I*w*abs(x1 - x1_s) / Uph) * sin(pi*m1*x1/L) * sin(pi*m1*x1_s/L) * cos(m2 * x2 / R) * cos(m2 * x2_s / R)"
   ]
  },
  {
   "cell_type": "code",
   "execution_count": 63,
   "metadata": {},
   "outputs": [],
   "source": [
    "integr = integr.subs({m1: 1, m2: 1, L: 1.5, R: 1.5, lam1: 1, lam2: 1, w: 0.5, Uph: 100})"
   ]
  },
  {
   "cell_type": "code",
   "execution_count": 64,
   "metadata": {},
   "outputs": [
    {
     "data": {
      "text/latex": [
       "$\\displaystyle e^{- 0.005 i \\left|{x_{1} - x_1^{'}}\\right|} e^{- \\left|{x_{1} - x_1^{'}}\\right|} e^{- \\left|{x_{2} - x_2^{'}}\\right|} \\sin{\\left(0.666666666666667 \\pi x_{1} \\right)} \\sin{\\left(0.666666666666667 \\pi x_1^{'} \\right)} \\cos{\\left(0.666666666666667 x_{2} \\right)} \\cos{\\left(0.666666666666667 x_2^{'} \\right)}$"
      ],
      "text/plain": [
       "exp(-0.005*I*Abs(x_1 - x_1^{'}))*exp(-Abs(x_1 - x_1^{'}))*exp(-Abs(x_2 - x_2^{'}))*sin(0.666666666666667*pi*x_1)*sin(0.666666666666667*pi*x_1^{'})*cos(0.666666666666667*x_2)*cos(0.666666666666667*x_2^{'})"
      ]
     },
     "execution_count": 64,
     "metadata": {},
     "output_type": "execute_result"
    }
   ],
   "source": [
    "integr"
   ]
  },
  {
   "cell_type": "markdown",
   "metadata": {},
   "source": [
    "# Scipy"
   ]
  },
  {
   "cell_type": "code",
   "execution_count": 65,
   "metadata": {},
   "outputs": [],
   "source": [
    "from scipy.integrate import nquad\n",
    "import numpy as np"
   ]
  },
  {
   "cell_type": "code",
   "execution_count": 66,
   "metadata": {},
   "outputs": [],
   "source": [
    "def f2(x2, x2_s):\n",
    "    return np.exp(-np.abs(x2 - x2_s)) * np.cos(x2 / 1.5) * np.cos(x2_s / 1.5)"
   ]
  },
  {
   "cell_type": "code",
   "execution_count": 67,
   "metadata": {},
   "outputs": [
    {
     "name": "stderr",
     "output_type": "stream",
     "text": [
      "c:\\python38\\lib\\site-packages\\scipy\\integrate\\quadpack.py:880: IntegrationWarning: The occurrence of roundoff error is detected, which prevents \n",
      "  the requested tolerance from being achieved.  The error may be \n",
      "  underestimated.\n",
      "  quad_r = quad(f, low, high, args=args, full_output=self.full_output,\n"
     ]
    },
    {
     "data": {
      "text/plain": [
       "(5.566349759592458, 1.0244426881373436e-05)"
      ]
     },
     "execution_count": 67,
     "metadata": {},
     "output_type": "execute_result"
    }
   ],
   "source": [
    "nquad(f2, [[0, 2*np.pi*1.5], [0, 2*np.pi*1.5]])"
   ]
  },
  {
   "cell_type": "code",
   "execution_count": 68,
   "metadata": {},
   "outputs": [
    {
     "data": {
      "text/latex": [
       "$\\displaystyle 5.56634375580984$"
      ],
      "text/plain": [
       "5.56634375580984"
      ]
     },
     "execution_count": 68,
     "metadata": {},
     "output_type": "execute_result"
    }
   ],
   "source": [
    "r7.evalf(subs={m1: 1, m2: 1, L: 1.5, R: 1.5, lam1: 1, lam2: 1, w: 0.5, Uph: 100})"
   ]
  },
  {
   "cell_type": "code",
   "execution_count": 69,
   "metadata": {},
   "outputs": [],
   "source": [
    "def f1(x1, x1_s):\n",
    "    return np.exp(-np.abs(x1 - x1_s)) * np.sin(-0.5*(x1 - x1_s) / 100) * np.sin(np.pi * x1 / 1.5) * np.sin(np.pi * x1_s / 1.5)"
   ]
  },
  {
   "cell_type": "code",
   "execution_count": 70,
   "metadata": {},
   "outputs": [
    {
     "data": {
      "text/plain": [
       "(3.018241000576978e-20, 1.0688198152345359e-08)"
      ]
     },
     "execution_count": 70,
     "metadata": {},
     "output_type": "execute_result"
    }
   ],
   "source": [
    "nquad(f1, [[0, 1.5], [0, 1.5]])"
   ]
  },
  {
   "cell_type": "markdown",
   "metadata": {},
   "source": [
    "# Другое"
   ]
  },
  {
   "cell_type": "code",
   "execution_count": 71,
   "metadata": {},
   "outputs": [],
   "source": [
    "k1, k2 = symbols('k_1, k_2', real=True)"
   ]
  },
  {
   "cell_type": "code",
   "execution_count": 72,
   "metadata": {},
   "outputs": [],
   "source": [
    "f1 = sin(m1 * pi * x1 / L) * exp(-I*k1*x1)"
   ]
  },
  {
   "cell_type": "code",
   "execution_count": 73,
   "metadata": {},
   "outputs": [],
   "source": [
    "res1 = integrate(f1, (x1, 0, L), conds='none')"
   ]
  },
  {
   "cell_type": "code",
   "execution_count": 74,
   "metadata": {},
   "outputs": [],
   "source": [
    "res1 = res1.simplify()"
   ]
  },
  {
   "cell_type": "code",
   "execution_count": 75,
   "metadata": {},
   "outputs": [
    {
     "data": {
      "text/latex": [
       "$\\displaystyle \\frac{\\pi L m_{1} \\left(\\left(-1\\right)^{m_{1}} - e^{i L k_{1}}\\right) e^{- i L k_{1}}}{L^{2} k_{1}^{2} - \\pi^{2} m_{1}^{2}}$"
      ],
      "text/plain": [
       "pi*L*m_1*((-1)**m_1 - exp(I*L*k_1))*exp(-I*L*k_1)/(L**2*k_1**2 - pi**2*m_1**2)"
      ]
     },
     "execution_count": 75,
     "metadata": {},
     "output_type": "execute_result"
    }
   ],
   "source": [
    "res1"
   ]
  },
  {
   "cell_type": "code",
   "execution_count": 76,
   "metadata": {},
   "outputs": [],
   "source": [
    "f2 = cos(m2 * x2 / R) * exp(-I*k2*x2)"
   ]
  },
  {
   "cell_type": "code",
   "execution_count": 77,
   "metadata": {},
   "outputs": [],
   "source": [
    "res2 = integrate(f2, (x2, 0, 2*pi*R), conds='none')"
   ]
  },
  {
   "cell_type": "code",
   "execution_count": 78,
   "metadata": {},
   "outputs": [],
   "source": [
    "res2 = res2.simplify()"
   ]
  },
  {
   "cell_type": "code",
   "execution_count": 79,
   "metadata": {},
   "outputs": [
    {
     "data": {
      "text/latex": [
       "$\\displaystyle \\frac{i R^{2} k_{2} \\left(1 - e^{2 i \\pi R k_{2}}\\right) e^{- 2 i \\pi R k_{2}}}{R^{2} k_{2}^{2} - m_{2}^{2}}$"
      ],
      "text/plain": [
       "I*R**2*k_2*(1 - exp(2*I*pi*R*k_2))*exp(-2*I*pi*R*k_2)/(R**2*k_2**2 - m_2**2)"
      ]
     },
     "execution_count": 79,
     "metadata": {},
     "output_type": "execute_result"
    }
   ],
   "source": [
    "res2"
   ]
  },
  {
   "cell_type": "code",
   "execution_count": 80,
   "metadata": {},
   "outputs": [],
   "source": [
    "abs1 = simplify(abs(res1.expand(complex=True)))"
   ]
  },
  {
   "cell_type": "code",
   "execution_count": 81,
   "metadata": {},
   "outputs": [],
   "source": [
    "abs2 = simplify(abs(res2.expand(complex=True)))"
   ]
  },
  {
   "cell_type": "code",
   "execution_count": 82,
   "metadata": {},
   "outputs": [],
   "source": [
    "sq1 = simplify(abs1 ** 2)"
   ]
  },
  {
   "cell_type": "code",
   "execution_count": 83,
   "metadata": {},
   "outputs": [],
   "source": [
    "sq2 = simplify(abs2 ** 2)"
   ]
  },
  {
   "cell_type": "code",
   "execution_count": 84,
   "metadata": {},
   "outputs": [
    {
     "data": {
      "text/latex": [
       "$\\displaystyle 4 R^{4} \\left|{\\frac{k_{2} \\sin{\\left(\\pi R k_{2} \\right)}}{R^{2} k_{2}^{2} - m_{2}^{2}}}\\right|^{2}$"
      ],
      "text/plain": [
       "4*R**4*Abs(k_2*sin(pi*R*k_2)/(R**2*k_2**2 - m_2**2))**2"
      ]
     },
     "execution_count": 84,
     "metadata": {},
     "output_type": "execute_result"
    }
   ],
   "source": [
    "sq2"
   ]
  },
  {
   "cell_type": "code",
   "execution_count": 85,
   "metadata": {},
   "outputs": [
    {
     "data": {
      "text/latex": [
       "$\\displaystyle \\frac{2 \\pi^{2} L^{2} m_{1}^{2} \\left(\\left(-1\\right)^{m_{1} + 1} \\cos{\\left(L k_{1} \\right)} + 1\\right)}{\\left(L^{2} k_{1}^{2} - \\pi^{2} m_{1}^{2}\\right)^{2}}$"
      ],
      "text/plain": [
       "2*pi**2*L**2*m_1**2*((-1)**(m_1 + 1)*cos(L*k_1) + 1)/(L**2*k_1**2 - pi**2*m_1**2)**2"
      ]
     },
     "execution_count": 85,
     "metadata": {},
     "output_type": "execute_result"
    }
   ],
   "source": [
    "sq1"
   ]
  },
  {
   "cell_type": "code",
   "execution_count": 86,
   "metadata": {},
   "outputs": [
    {
     "data": {
      "text/latex": [
       "$\\displaystyle \\frac{i R^{2} k_{2} \\left(1 - e^{2 i \\pi R k_{2}}\\right) e^{- 2 i \\pi R k_{2}}}{R^{2} k_{2}^{2} - m_{2}^{2}}$"
      ],
      "text/plain": [
       "I*R**2*k_2*(1 - exp(2*I*pi*R*k_2))*exp(-2*I*pi*R*k_2)/(R**2*k_2**2 - m_2**2)"
      ]
     },
     "execution_count": 86,
     "metadata": {},
     "output_type": "execute_result"
    }
   ],
   "source": [
    "res2"
   ]
  },
  {
   "cell_type": "code",
   "execution_count": 87,
   "metadata": {},
   "outputs": [
    {
     "data": {
      "text/latex": [
       "$\\displaystyle \\frac{i \\pi L R^{2} k_{2} m_{1} \\left(1 - e^{2 i \\pi R k_{2}}\\right) \\left(\\left(-1\\right)^{m_{1}} - e^{i L k_{1}}\\right) e^{- i \\left(L k_{1} + 2 \\pi R k_{2}\\right)}}{\\left(L^{2} k_{1}^{2} - \\pi^{2} m_{1}^{2}\\right) \\left(R^{2} k_{2}^{2} - m_{2}^{2}\\right)}$"
      ],
      "text/plain": [
       "I*pi*L*R**2*k_2*m_1*(1 - exp(2*I*pi*R*k_2))*((-1)**m_1 - exp(I*L*k_1))*exp(-I*(L*k_1 + 2*pi*R*k_2))/((L**2*k_1**2 - pi**2*m_1**2)*(R**2*k_2**2 - m_2**2))"
      ]
     },
     "execution_count": 87,
     "metadata": {},
     "output_type": "execute_result"
    }
   ],
   "source": [
    "simplify(res1 * res2)"
   ]
  },
  {
   "cell_type": "code",
   "execution_count": 88,
   "metadata": {},
   "outputs": [
    {
     "data": {
      "text/latex": [
       "$\\displaystyle \\frac{i \\pi L R^{2} k_{2} m_{1} \\left(1 - e^{2 i \\pi R k_{2}}\\right) \\left(\\left(-1\\right)^{m_{1}} - e^{i L k_{1}}\\right) e^{- i L k_{1}} e^{- 2 i \\pi R k_{2}}}{\\left(L^{2} k_{1}^{2} - \\pi^{2} m_{1}^{2}\\right) \\left(R^{2} k_{2}^{2} - m_{2}^{2}\\right)}$"
      ],
      "text/plain": [
       "I*pi*L*R**2*k_2*m_1*(1 - exp(2*I*pi*R*k_2))*((-1)**m_1 - exp(I*L*k_1))*exp(-I*L*k_1)*exp(-2*I*pi*R*k_2)/((L**2*k_1**2 - pi**2*m_1**2)*(R**2*k_2**2 - m_2**2))"
      ]
     },
     "execution_count": 88,
     "metadata": {},
     "output_type": "execute_result"
    }
   ],
   "source": [
    "res1 * res2"
   ]
  },
  {
   "cell_type": "code",
   "execution_count": 89,
   "metadata": {},
   "outputs": [
    {
     "data": {
      "text/latex": [
       "$\\displaystyle \\frac{8 \\pi^{2} L^{2} R^{4} m_{1}^{2} \\left(\\left(-1\\right)^{m_{1} + 1} \\cos{\\left(L k_{1} \\right)} + 1\\right) \\left|{\\frac{k_{2} \\sin{\\left(\\pi R k_{2} \\right)}}{R^{2} k_{2}^{2} - m_{2}^{2}}}\\right|^{2}}{\\left(L^{2} k_{1}^{2} - \\pi^{2} m_{1}^{2}\\right)^{2}}$"
      ],
      "text/plain": [
       "8*pi**2*L**2*R**4*m_1**2*((-1)**(m_1 + 1)*cos(L*k_1) + 1)*Abs(k_2*sin(pi*R*k_2)/(R**2*k_2**2 - m_2**2))**2/(L**2*k_1**2 - pi**2*m_1**2)**2"
      ]
     },
     "execution_count": 89,
     "metadata": {},
     "output_type": "execute_result"
    }
   ],
   "source": [
    "simplify(sq1 * sq2)"
   ]
  },
  {
   "cell_type": "code",
   "execution_count": 90,
   "metadata": {},
   "outputs": [
    {
     "data": {
      "text/latex": [
       "$\\displaystyle \\frac{8 \\pi^{2} L^{2} R^{4} m_{1}^{2} \\left(\\left(-1\\right)^{m_{1} + 1} \\cos{\\left(L k_{1} \\right)} + 1\\right) \\left|{\\frac{k_{2} \\sin{\\left(\\pi R k_{2} \\right)}}{R^{2} k_{2}^{2} - m_{2}^{2}}}\\right|^{2}}{\\left(L^{2} k_{1}^{2} - \\pi^{2} m_{1}^{2}\\right)^{2}}$"
      ],
      "text/plain": [
       "8*pi**2*L**2*R**4*m_1**2*((-1)**(m_1 + 1)*cos(L*k_1) + 1)*Abs(k_2*sin(pi*R*k_2)/(R**2*k_2**2 - m_2**2))**2/(L**2*k_1**2 - pi**2*m_1**2)**2"
      ]
     },
     "execution_count": 90,
     "metadata": {},
     "output_type": "execute_result"
    }
   ],
   "source": [
    "sq1 * sq2"
   ]
  },
  {
   "cell_type": "code",
   "execution_count": 91,
   "metadata": {},
   "outputs": [],
   "source": [
    "r_sq = (8*pi**2 * L**2 * R **4 * m1 ** 2 * ((-1) ** (m1 + 1) * cos(L*k1) + 1) * k2 ** 2 * sin(pi * R * k2) ** 2) / (((L*k1)**2 - (pi * m1)**2)**2 * ((R*k2)**2 - m2 **2) **2)"
   ]
  },
  {
   "cell_type": "code",
   "execution_count": 92,
   "metadata": {},
   "outputs": [
    {
     "data": {
      "text/latex": [
       "$\\displaystyle \\frac{8 \\pi^{2} L^{2} R^{4} k_{2}^{2} m_{1}^{2} \\left(\\left(-1\\right)^{m_{1} + 1} \\cos{\\left(L k_{1} \\right)} + 1\\right) \\sin^{2}{\\left(\\pi R k_{2} \\right)}}{\\left(L^{2} k_{1}^{2} - \\pi^{2} m_{1}^{2}\\right)^{2} \\left(R^{2} k_{2}^{2} - m_{2}^{2}\\right)^{2}}$"
      ],
      "text/plain": [
       "8*pi**2*L**2*R**4*k_2**2*m_1**2*((-1)**(m_1 + 1)*cos(L*k_1) + 1)*sin(pi*R*k_2)**2/((L**2*k_1**2 - pi**2*m_1**2)**2*(R**2*k_2**2 - m_2**2)**2)"
      ]
     },
     "execution_count": 92,
     "metadata": {},
     "output_type": "execute_result"
    }
   ],
   "source": [
    "simplify(r_sq)"
   ]
  },
  {
   "cell_type": "code",
   "execution_count": 93,
   "metadata": {},
   "outputs": [],
   "source": [
    "h, phi = symbols('h, \\phi', real=True)"
   ]
  },
  {
   "cell_type": "code",
   "execution_count": 94,
   "metadata": {},
   "outputs": [],
   "source": [
    "r_hp = simplify(r_sq.subs({k1: h*cos(phi), k2: h*sin(phi)}))"
   ]
  },
  {
   "cell_type": "code",
   "execution_count": 95,
   "metadata": {},
   "outputs": [],
   "source": [
    "k0 = symbols('k_0', real=True)"
   ]
  },
  {
   "cell_type": "code",
   "execution_count": 118,
   "metadata": {},
   "outputs": [],
   "source": [
    "f_r = (r_hp * h) / sqrt(k0 ** 2 - h ** 2)"
   ]
  },
  {
   "cell_type": "code",
   "execution_count": 119,
   "metadata": {},
   "outputs": [],
   "source": [
    "f_r = f_r * (w ** 2)"
   ]
  },
  {
   "cell_type": "code",
   "execution_count": 120,
   "metadata": {},
   "outputs": [
    {
     "data": {
      "text/latex": [
       "$\\displaystyle \\frac{8 \\pi^{2} L^{2} R^{4} \\omega^{2} h^{3} m_{1}^{2} \\left(\\left(-1\\right)^{m_{1} + 1} \\cos{\\left(L h \\cos{\\left(\\phi \\right)} \\right)} + 1\\right) \\sin^{2}{\\left(\\phi \\right)} \\sin^{2}{\\left(\\pi R h \\sin{\\left(\\phi \\right)} \\right)}}{\\sqrt{- h^{2} + k_{0}^{2}} \\left(L^{2} h^{2} \\cos^{2}{\\left(\\phi \\right)} - \\pi^{2} m_{1}^{2}\\right)^{2} \\left(R^{2} h^{2} \\sin^{2}{\\left(\\phi \\right)} - m_{2}^{2}\\right)^{2}}$"
      ],
      "text/plain": [
       "8*pi**2*L**2*R**4*\\omega**2*h**3*m_1**2*((-1)**(m_1 + 1)*cos(L*h*cos(\\phi)) + 1)*sin(\\phi)**2*sin(pi*R*h*sin(\\phi))**2/(sqrt(-h**2 + k_0**2)*(L**2*h**2*cos(\\phi)**2 - pi**2*m_1**2)**2*(R**2*h**2*sin(\\phi)**2 - m_2**2)**2)"
      ]
     },
     "execution_count": 120,
     "metadata": {},
     "output_type": "execute_result"
    }
   ],
   "source": [
    "f_r"
   ]
  },
  {
   "cell_type": "code",
   "execution_count": 121,
   "metadata": {},
   "outputs": [
    {
     "data": {
      "text/latex": [
       "$\\displaystyle 3863.50931031211$"
      ],
      "text/plain": [
       "3863.50931031211"
      ]
     },
     "execution_count": 121,
     "metadata": {},
     "output_type": "execute_result"
    }
   ],
   "source": [
    "f_r.evalf(subs={m1: 1, m2: 1, L:1.5, R:1.5, h:0.3, phi:0.5, k0: 0.5821186387534029, w: 197.92033717615698})"
   ]
  },
  {
   "cell_type": "code",
   "execution_count": 134,
   "metadata": {},
   "outputs": [],
   "source": [
    "def func(phi, r, w, L, R):\n",
    "    c = 340\n",
    "    m1 = 1\n",
    "    m2 = 1\n",
    "    k = w / c\n",
    "    coef = (w ** 2) * 8 * ((np.pi * L * m1) ** 2) * (R ** 4) * (r ** 3)\n",
    "    num1 = ((-1) ** (m1 + 1)) * np.cos(L * r * np.cos(phi)) + 1\n",
    "    num2 = np.sin(phi) ** 2\n",
    "    num3 = np.sin(np.pi * R * r * np.sin(phi)) ** 2\n",
    "    den1 = np.sqrt(k ** 2 - r ** 2)\n",
    "    den2 = ((L * r * np.cos(phi)) ** 2 - (np.pi * m1) ** 2) ** 2\n",
    "    den3 = ((R * r * np.sin(phi)) ** 2 - m2 ** 2) ** 2\n",
    "    num = coef * num1 * num2 * num3\n",
    "    den = den1 * den2 * den3\n",
    "    print(coef, num1, num2, num3)\n",
    "    return num / den"
   ]
  },
  {
   "cell_type": "code",
   "execution_count": 135,
   "metadata": {},
   "outputs": [
    {
     "name": "stdout",
     "output_type": "stream",
     "text": [
      "951222.0197481986 1.923030365104062 0.22984884706593015 0.39320292069171\n"
     ]
    },
    {
     "data": {
      "text/plain": [
       "3863.5093103121094"
      ]
     },
     "execution_count": 135,
     "metadata": {},
     "output_type": "execute_result"
    }
   ],
   "source": [
    "func(0.5, 0.3, 197.92033717615698, 1.5, 1.5)"
   ]
  },
  {
   "cell_type": "code",
   "execution_count": 122,
   "metadata": {},
   "outputs": [],
   "source": [
    "n, d = fraction(f_r)"
   ]
  },
  {
   "cell_type": "code",
   "execution_count": 124,
   "metadata": {},
   "outputs": [
    {
     "data": {
      "text/latex": [
       "$\\displaystyle 165320.649109051$"
      ],
      "text/plain": [
       "165320.649109051"
      ]
     },
     "execution_count": 124,
     "metadata": {},
     "output_type": "execute_result"
    }
   ],
   "source": [
    "n.evalf(subs={m1: 1, m2: 1, L:1.5, R:1.5, h:0.3, phi:0.5, k0: 0.5821186387534029, w: 197.92033717615698})"
   ]
  },
  {
   "cell_type": "code",
   "execution_count": 125,
   "metadata": {},
   "outputs": [
    {
     "data": {
      "text/latex": [
       "$\\displaystyle 42.7902810193294$"
      ],
      "text/plain": [
       "42.7902810193294"
      ]
     },
     "execution_count": 125,
     "metadata": {},
     "output_type": "execute_result"
    }
   ],
   "source": [
    "d.evalf(subs={m1: 1, m2: 1, L:1.5, R:1.5, h:0.3, phi:0.5, k0: 0.5821186387534029, w: 197.92033717615698})"
   ]
  },
  {
   "cell_type": "code",
   "execution_count": 126,
   "metadata": {},
   "outputs": [
    {
     "data": {
      "text/plain": [
       "3936.190476190476"
      ]
     },
     "execution_count": 126,
     "metadata": {},
     "output_type": "execute_result"
    }
   ],
   "source": [
    "165320 / 42"
   ]
  },
  {
   "cell_type": "code",
   "execution_count": 131,
   "metadata": {},
   "outputs": [
    {
     "data": {
      "text/latex": [
       "$\\displaystyle 8 \\pi^{2} L^{2} R^{4} \\omega^{2} h^{3} m_{1}^{2} \\left(\\left(-1\\right)^{m_{1} + 1} \\cos{\\left(L h \\cos{\\left(\\phi \\right)} \\right)} + 1\\right) \\sin^{2}{\\left(\\phi \\right)} \\sin^{2}{\\left(\\pi R h \\sin{\\left(\\phi \\right)} \\right)}$"
      ],
      "text/plain": [
       "8*pi**2*L**2*R**4*\\omega**2*h**3*m_1**2*((-1)**(m_1 + 1)*cos(L*h*cos(\\phi)) + 1)*sin(\\phi)**2*sin(pi*R*h*sin(\\phi))**2"
      ]
     },
     "execution_count": 131,
     "metadata": {},
     "output_type": "execute_result"
    }
   ],
   "source": [
    "n"
   ]
  },
  {
   "cell_type": "code",
   "execution_count": null,
   "metadata": {},
   "outputs": [],
   "source": []
  }
 ],
 "metadata": {
  "kernelspec": {
   "display_name": "Python 3",
   "language": "python",
   "name": "python3"
  },
  "language_info": {
   "codemirror_mode": {
    "name": "ipython",
    "version": 3
   },
   "file_extension": ".py",
   "mimetype": "text/x-python",
   "name": "python",
   "nbconvert_exporter": "python",
   "pygments_lexer": "ipython3",
   "version": "3.8.5"
  }
 },
 "nbformat": 4,
 "nbformat_minor": 4
}
