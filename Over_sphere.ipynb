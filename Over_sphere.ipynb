{
 "cells": [
  {
   "cell_type": "code",
   "execution_count": 1,
   "metadata": {},
   "outputs": [],
   "source": [
    "import numpy as np\n",
    "import pandas as pd"
   ]
  },
  {
   "cell_type": "code",
   "execution_count": 88,
   "metadata": {},
   "outputs": [],
   "source": [
    "import mpmath"
   ]
  },
  {
   "cell_type": "markdown",
   "metadata": {},
   "source": [
    "# Параметры "
   ]
  },
  {
   "cell_type": "code",
   "execution_count": 2,
   "metadata": {},
   "outputs": [],
   "source": [
    "L = 1.5 # длина в м\n",
    "R = 1.5 # радиус\n",
    "E = 7e10  # модуль Юнга\n",
    "ro = 2700  # плотоность алюминия\n",
    "ro_air = 1.2  # в салоне\n",
    "nu = 0.33  # коэффицент Пуассона\n",
    "G = E / (2 * (1 + nu))  # модуль сдвига\n",
    "h = 0.0015   # тодщина пластины\n",
    "D = (E * h ** 3) / (12 * (1 - nu ** 2))  # жесткость из уравнения колебания\n",
    "beta = 0.01 # - коэф потерь\n",
    "c = 330 # в салоне"
   ]
  },
  {
   "cell_type": "markdown",
   "metadata": {},
   "source": [
    "# Данные Bies"
   ]
  },
  {
   "cell_type": "code",
   "execution_count": 3,
   "metadata": {},
   "outputs": [],
   "source": [
    "df = pd.read_csv('Bies_TBL_Data.csv')\n",
    "df['P^2'] = 4 * 10 ** (df['Lterz'] / 10 - 10)\n",
    "df['w'] = 2 * np.pi * df['Freq']"
   ]
  },
  {
   "cell_type": "code",
   "execution_count": 4,
   "metadata": {},
   "outputs": [],
   "source": [
    "def get_params(ind):\n",
    "    return dict(df.iloc[ind])"
   ]
  },
  {
   "cell_type": "markdown",
   "metadata": {},
   "source": [
    "# Функции"
   ]
  },
  {
   "cell_type": "markdown",
   "metadata": {},
   "source": [
    "Векторизуем по m1 и m2 - они могут быть векторами. "
   ]
  },
  {
   "cell_type": "code",
   "execution_count": 5,
   "metadata": {},
   "outputs": [],
   "source": [
    "def int1(L, m1, lam1, w, Uph):\n",
    "    num1 = (((-1) ** (m1 + 1)) * ((np.pi * L * m1) ** 2) * np.exp(-L/lam1 - 1j*L*w/Uph) + (L ** 5) * (Uph + 1j*lam1*w)**3 / \n",
    "            (2 * (Uph * lam1) ** 3) + (np.pi ** 2) * (L*m1)**3 / (2*lam1) + (1j * ((np.pi * m1) ** 2) * w * L **3) / (2 * Uph) +\n",
    "           (np.pi * L * m1) ** 2)\n",
    "    den1 = ((L**2) * (1/lam1 + 1j*w/Uph)**2 + (np.pi * m1) ** 2) ** 2\n",
    "    \n",
    "    num2 = (((-1) ** (m1 + 1)) * ((np.pi * L * m1) ** 2) * np.exp(-L/lam1 + 1j*L*w/Uph) + (L ** 5) * (Uph - 1j*lam1*w)**3 / \n",
    "            (2 * (Uph * lam1) ** 3) + (np.pi ** 2) * (L*m1)**3 / (2*lam1) - (1j * ((np.pi * m1) ** 2) * w * L **3) / (2 * Uph) +\n",
    "           (np.pi * L * m1) ** 2)\n",
    "    den2 = ((L**2) * (1/lam1 - 1j*w/Uph)**2 + (np.pi * m1) ** 2) ** 2\n",
    "    return num1 / den1 + num2 / den2"
   ]
  },
  {
   "cell_type": "code",
   "execution_count": 6,
   "metadata": {},
   "outputs": [],
   "source": [
    "def int2(R, m2, lam2):\n",
    "    return (2 * np.pi * lam2 * R ** 5 - 2 * (R ** 4) * lam2 ** 2 + 2 * (R ** 4) * (lam2 ** 2) * np.exp(-2*np.pi * R / lam2) + \n",
    "           2*np.pi*((R*lam2) ** 3) * (m2)**2) / (R**2 + (lam2*m2)**2) **2"
   ]
  },
  {
   "cell_type": "code",
   "execution_count": 7,
   "metadata": {},
   "outputs": [],
   "source": [
    "def octave_width(w):\n",
    "    return 0.23 * w"
   ]
  },
  {
   "cell_type": "code",
   "execution_count": 8,
   "metadata": {},
   "outputs": [],
   "source": [
    "# w - циклическая\n",
    "def full_int(m1, m2, lam1, lam2, w, Uph, p_sq):\n",
    "    coef = (4 / (np.pi * R * L) ** 2) * (p_sq / octave_width(w))\n",
    "    return coef * np.real(np.outer(int1(L, m1, lam1, w, Uph), int2(R, m2, lam2)))"
   ]
  },
  {
   "cell_type": "code",
   "execution_count": 9,
   "metadata": {},
   "outputs": [],
   "source": [
    "# m1 - вниз, m2 - вправо\n",
    "def B_coef(m1, m2, lam1, lam2, w, Uph, p_sq):\n",
    "    m1v, m2v = np.meshgrid(m1, m2, indexing='ij')\n",
    "    k1 = m1v * np.pi / L\n",
    "    k2 = m2v / R\n",
    "    den = (D * (k1 ** 2 + k2 ** 2) ** 2 + (E * h * k1 ** 4) / ((R ** 2) * (k1 ** 2 + k2 ** 2) ** 2) - ro * h * (w ** 2)) ** 2 + (beta * w) ** 2\n",
    "    return full_int(m1, m2, lam1, lam2, w, Uph, p_sq) / den"
   ]
  },
  {
   "cell_type": "markdown",
   "metadata": {},
   "source": [
    "# Считаем поточечно "
   ]
  },
  {
   "cell_type": "code",
   "execution_count": null,
   "metadata": {},
   "outputs": [],
   "source": [
    "def func_sphere(k1, k1, lam1, lam2, w, Uph, p_sq):\n",
    "    # rewrite for sphere"
   ]
  },
  {
   "cell_type": "code",
   "execution_count": 18,
   "metadata": {},
   "outputs": [],
   "source": [
    "def func(phi, r, lam1, lam2, w, Uph, p_sq):\n",
    "    m1 = np.arange(1, 23)\n",
    "    m2 = np.arange(1, 23)\n",
    "    k = w / c\n",
    "    coef = (w ** 2) * 8 * ((np.pi * L * m1) ** 2) * (R ** 4) * (r ** 3)\n",
    "    num1 = ((-1) ** (m1 + 1)) * np.cos(L * r * np.cos(phi)) + 1\n",
    "    num2 = np.sin(phi) ** 2\n",
    "    num3 = np.sin(np.pi * R * r * np.sin(phi)) ** 2\n",
    "    den1 = np.sqrt(k ** 2 - r ** 2)\n",
    "    den2 = ((L * r * np.cos(phi)) ** 2 - (np.pi * m1) ** 2) ** 2\n",
    "    den3 = ((R * r * np.sin(phi)) ** 2 - m2 ** 2) ** 2\n",
    "    num = coef * num1 * num2 * num3\n",
    "    den = den1 * den2 * den3\n",
    "    den = 1 / den\n",
    "    b = B_coef(m1, m2, lam1, lam2, w, Uph, p_sq)\n",
    "    return np.sum(b * (np.outer(coef * num, den)), keepdims=False)"
   ]
  },
  {
   "cell_type": "code",
   "execution_count": 19,
   "metadata": {},
   "outputs": [],
   "source": [
    "def vec_func(phi, r, lam1, lam2, w, Uph, p_sq):\n",
    "    return np.array([func(f, rad, lam1, lam2, w, Uph, p_sq) for f, rad in zip(phi, r)])"
   ]
  },
  {
   "cell_type": "code",
   "execution_count": 33,
   "metadata": {},
   "outputs": [
    {
     "data": {
      "text/plain": [
       "0.0"
      ]
     },
     "execution_count": 33,
     "metadata": {},
     "output_type": "execute_result"
    }
   ],
   "source": [
    "func(0, 0, lam1, lam2, w, Uph, p_sq)"
   ]
  },
  {
   "cell_type": "code",
   "execution_count": 21,
   "metadata": {},
   "outputs": [],
   "source": [
    "import quadpy"
   ]
  },
  {
   "cell_type": "code",
   "execution_count": 93,
   "metadata": {},
   "outputs": [],
   "source": [
    "__, lam1, lam2, __, p_sq, Uph, w = get_params(0).values()"
   ]
  },
  {
   "cell_type": "code",
   "execution_count": 82,
   "metadata": {},
   "outputs": [],
   "source": [
    "scheme = quadpy.c2.get_good_scheme(21)\n",
    "val = scheme.integrate(\n",
    "    lambda x: vec_func(x[0], x[1], lam1, lam2, w, Uph, p_sq),\n",
    "    quadpy.c2.rectangle_points([0, 2*np.pi], [0, w/c]),\n",
    ")"
   ]
  },
  {
   "cell_type": "code",
   "execution_count": 83,
   "metadata": {},
   "outputs": [
    {
     "data": {
      "text/plain": [
       "1585633.0284960882"
      ]
     },
     "execution_count": 83,
     "metadata": {},
     "output_type": "execute_result"
    }
   ],
   "source": [
    "val"
   ]
  },
  {
   "cell_type": "code",
   "execution_count": 84,
   "metadata": {},
   "outputs": [
    {
     "data": {
      "text/plain": [
       "102.74844356055128"
      ]
     },
     "execution_count": 84,
     "metadata": {},
     "output_type": "execute_result"
    }
   ],
   "source": [
    "10 * np.log10(val * (ro_air * w) / 2)"
   ]
  },
  {
   "cell_type": "code",
   "execution_count": null,
   "metadata": {},
   "outputs": [],
   "source": []
  }
 ],
 "metadata": {
  "kernelspec": {
   "display_name": "Python 3",
   "language": "python",
   "name": "python3"
  },
  "language_info": {
   "codemirror_mode": {
    "name": "ipython",
    "version": 3
   },
   "file_extension": ".py",
   "mimetype": "text/x-python",
   "name": "python",
   "nbconvert_exporter": "python",
   "pygments_lexer": "ipython3",
   "version": "3.8.5"
  }
 },
 "nbformat": 4,
 "nbformat_minor": 4
}
