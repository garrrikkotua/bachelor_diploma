{
 "cells": [
  {
   "cell_type": "code",
   "execution_count": 4,
   "metadata": {},
   "outputs": [],
   "source": [
    "from sympy import *"
   ]
  },
  {
   "cell_type": "code",
   "execution_count": 43,
   "metadata": {},
   "outputs": [],
   "source": [
    "Om_a = Symbol('\\Omega_a')\n",
    "Om_b = Symbol('\\Omega_b')\n",
    "n = Symbol('n')\n",
    "a = Symbol('a')\n",
    "b = Symbol('b')"
   ]
  },
  {
   "cell_type": "code",
   "execution_count": 44,
   "metadata": {},
   "outputs": [],
   "source": [
    "m = Matrix([\n",
    "    [-(n - 1) * Om_a, Om_b * (a / b) ** (n - 2)],\n",
    "    [Om_a * (a / b) ** (n + 2), -Om_b * (n - 1) + ((a / b) ** 2) * (Om_b - Om_a)]\n",
    "])"
   ]
  },
  {
   "cell_type": "code",
   "execution_count": 45,
   "metadata": {},
   "outputs": [
    {
     "data": {
      "text/latex": [
       "$\\displaystyle \\left[\\begin{matrix}\\Omega_a \\left(1 - n\\right) & \\Omega_b \\left(\\frac{a}{b}\\right)^{n - 2}\\\\\\Omega_a \\left(\\frac{a}{b}\\right)^{n + 2} & - \\Omega_b \\left(n - 1\\right) + \\frac{a^{2} \\left(- \\Omega_a + \\Omega_b\\right)}{b^{2}}\\end{matrix}\\right]$"
      ],
      "text/plain": [
       "Matrix([\n",
       "[       \\Omega_a*(1 - n),                              \\Omega_b*(a/b)**(n - 2)],\n",
       "[\\Omega_a*(a/b)**(n + 2), -\\Omega_b*(n - 1) + a**2*(-\\Omega_a + \\Omega_b)/b**2]])"
      ]
     },
     "execution_count": 45,
     "metadata": {},
     "output_type": "execute_result"
    }
   ],
   "source": [
    "m"
   ]
  },
  {
   "cell_type": "code",
   "execution_count": 46,
   "metadata": {},
   "outputs": [],
   "source": [
    "l1 = list(m.eigenvals().keys())[0]"
   ]
  },
  {
   "cell_type": "code",
   "execution_count": 47,
   "metadata": {},
   "outputs": [],
   "source": [
    "l2 = list(m.eigenvals().keys())[1]"
   ]
  },
  {
   "cell_type": "code",
   "execution_count": 51,
   "metadata": {},
   "outputs": [
    {
     "data": {
      "text/latex": [
       "$\\displaystyle \\frac{- \\Omega_a a^{2} + \\Omega_b a^{2} + b^{2} \\left(- \\Omega_a n + \\Omega_a - \\Omega_b n + \\Omega_b\\right) - \\sqrt{- 4 \\Omega_a b^{2} \\left(\\Omega_a a^{2} n - \\Omega_a a^{2} - \\Omega_b a^{2} n + \\Omega_b a^{2} + \\Omega_b b^{2} n^{2} - 2 \\Omega_b b^{2} n - \\Omega_b b^{2} \\left(\\frac{a}{b}\\right)^{2 n} + \\Omega_b b^{2}\\right) + \\left(\\Omega_a a^{2} + \\Omega_a b^{2} n - \\Omega_a b^{2} - \\Omega_b a^{2} + \\Omega_b b^{2} n - \\Omega_b b^{2}\\right)^{2}}}{2 b^{2}}$"
      ],
      "text/plain": [
       "(-\\Omega_a*a**2 + \\Omega_b*a**2 + b**2*(-\\Omega_a*n + \\Omega_a - \\Omega_b*n + \\Omega_b) - sqrt(-4*\\Omega_a*b**2*(\\Omega_a*a**2*n - \\Omega_a*a**2 - \\Omega_b*a**2*n + \\Omega_b*a**2 + \\Omega_b*b**2*n**2 - 2*\\Omega_b*b**2*n - \\Omega_b*b**2*(a/b)**(2*n) + \\Omega_b*b**2) + (\\Omega_a*a**2 + \\Omega_a*b**2*n - \\Omega_a*b**2 - \\Omega_b*a**2 + \\Omega_b*b**2*n - \\Omega_b*b**2)**2))/(2*b**2)"
      ]
     },
     "execution_count": 51,
     "metadata": {},
     "output_type": "execute_result"
    }
   ],
   "source": [
    "simplify(l1)"
   ]
  },
  {
   "cell_type": "code",
   "execution_count": 52,
   "metadata": {},
   "outputs": [
    {
     "data": {
      "text/latex": [
       "$\\displaystyle \\frac{- \\Omega_a a^{2} + \\Omega_b a^{2} + b^{2} \\left(- \\Omega_a n + \\Omega_a - \\Omega_b n + \\Omega_b\\right) + \\sqrt{- 4 \\Omega_a b^{2} \\left(\\Omega_a a^{2} n - \\Omega_a a^{2} - \\Omega_b a^{2} n + \\Omega_b a^{2} + \\Omega_b b^{2} n^{2} - 2 \\Omega_b b^{2} n - \\Omega_b b^{2} \\left(\\frac{a}{b}\\right)^{2 n} + \\Omega_b b^{2}\\right) + \\left(\\Omega_a a^{2} + \\Omega_a b^{2} n - \\Omega_a b^{2} - \\Omega_b a^{2} + \\Omega_b b^{2} n - \\Omega_b b^{2}\\right)^{2}}}{2 b^{2}}$"
      ],
      "text/plain": [
       "(-\\Omega_a*a**2 + \\Omega_b*a**2 + b**2*(-\\Omega_a*n + \\Omega_a - \\Omega_b*n + \\Omega_b) + sqrt(-4*\\Omega_a*b**2*(\\Omega_a*a**2*n - \\Omega_a*a**2 - \\Omega_b*a**2*n + \\Omega_b*a**2 + \\Omega_b*b**2*n**2 - 2*\\Omega_b*b**2*n - \\Omega_b*b**2*(a/b)**(2*n) + \\Omega_b*b**2) + (\\Omega_a*a**2 + \\Omega_a*b**2*n - \\Omega_a*b**2 - \\Omega_b*a**2 + \\Omega_b*b**2*n - \\Omega_b*b**2)**2))/(2*b**2)"
      ]
     },
     "execution_count": 52,
     "metadata": {},
     "output_type": "execute_result"
    }
   ],
   "source": [
    "simplify(l2)"
   ]
  },
  {
   "cell_type": "code",
   "execution_count": null,
   "metadata": {},
   "outputs": [],
   "source": []
  }
 ],
 "metadata": {
  "kernelspec": {
   "display_name": "Python 3",
   "language": "python",
   "name": "python3"
  },
  "language_info": {
   "codemirror_mode": {
    "name": "ipython",
    "version": 3
   },
   "file_extension": ".py",
   "mimetype": "text/x-python",
   "name": "python",
   "nbconvert_exporter": "python",
   "pygments_lexer": "ipython3",
   "version": "3.8.5"
  }
 },
 "nbformat": 4,
 "nbformat_minor": 4
}
