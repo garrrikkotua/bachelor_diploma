{
 "cells": [
  {
   "cell_type": "code",
   "execution_count": 6,
   "metadata": {},
   "outputs": [],
   "source": [
    "import mpmath as mp\n",
    "from mpmath import mpf, mpc\n",
    "import pandas as pd\n",
    "import numpy as np"
   ]
  },
  {
   "cell_type": "code",
   "execution_count": 7,
   "metadata": {},
   "outputs": [],
   "source": [
    "mp.mp.dps = 20\n",
    "mp.pretty = True"
   ]
  },
  {
   "cell_type": "code",
   "execution_count": 8,
   "metadata": {},
   "outputs": [],
   "source": [
    "df = pd.read_csv('Bies_TBL_Data.csv')\n",
    "df['P^2'] = 4 * 10 ** (df['Lterz'] / 10 - 10)\n",
    "df['w'] = 2 * np.pi * df['Freq']"
   ]
  },
  {
   "cell_type": "code",
   "execution_count": 10,
   "metadata": {},
   "outputs": [],
   "source": [
    "def get_params(ind):\n",
    "    return dict(df.iloc[ind])"
   ]
  },
  {
   "cell_type": "code",
   "execution_count": 11,
   "metadata": {},
   "outputs": [],
   "source": [
    "L = mpf(1.5) # длина в м\n",
    "R = mpf(1.5) # радиус\n",
    "E = mpf(7e10)  # модуль Юнга\n",
    "ro = mpf(2700)  # плотоность алюминия\n",
    "nu = mpf(0.33)  # коэффицент Пуассона\n",
    "G = E / (2 * (1 + nu))  # модуль сдвига\n",
    "h = mpf(0.0015)   # тодщина пластины\n",
    "D = (E * h ** 3) / (12 * (1 - nu ** 2))  # жесткость из уравнения колебания\n",
    "beta = mpf(0.01) # - коэф потерь\n",
    "c = mpf(340)"
   ]
  },
  {
   "cell_type": "code",
   "execution_count": 12,
   "metadata": {},
   "outputs": [],
   "source": [
    "def int1(L, m1, lam1, w, Uph):\n",
    "    num1 = (((-1) ** (m1 + 1)) * ((mp.pi * L * m1) ** 2) * mp.exp(-L/lam1 - mpc(1j)*L*w/Uph) + (L ** 5) * (Uph + mpc(1j)*lam1*w)**3 / \n",
    "            (2 * (Uph * lam1) ** 3) + (mp.pi ** 2) * (L*m1)**3 / (2*lam1) + (1j * ((mp.pi * m1) ** 2) * w * L **3) / (2 * Uph) +\n",
    "           (mp.pi * L * m1) ** 2)\n",
    "    \n",
    "    den1 = ((L**2) * (1/lam1 + mpc(1j)*w/Uph)**2 + (mp.pi * m1) ** 2) ** 2\n",
    "    \n",
    "    num2 = (((-1) ** (m1 + 1)) * ((mp.pi * L * m1) ** 2) * mp.exp(-L/lam1 + mpc(1j)*L*w/Uph) + (L ** 5) * (Uph - mpc(1j)*lam1*w)**3 / \n",
    "            (2 * (Uph * lam1) ** 3) + (mp.pi ** 2) * (L*m1)**3 / (2*lam1) - (mpc(1j) * ((mp.pi * m1) ** 2) * w * L **3) / (2 * Uph) +\n",
    "           (mp.pi * L * m1) ** 2)\n",
    "    den2 = ((L**2) * (1/lam1 - mpc(1j)*w/Uph)**2 + (mp.pi * m1) ** 2) ** 2\n",
    "    return (num1 / den1 + num2 / den2).real"
   ]
  },
  {
   "cell_type": "code",
   "execution_count": 13,
   "metadata": {},
   "outputs": [],
   "source": [
    "def int2(R, m2, lam2):\n",
    "    return (2 * mp.pi * lam2 * R ** 5 - 2 * (R ** 4) * lam2 ** 2 + 2 * (R ** 4) * (lam2 ** 2) * mp.exp(-2*mp.pi * R / lam2) + \n",
    "           2*mp.pi*((R*lam2) ** 3) * (m2)**2) / (R**2 + (lam2*m2)**2) **2"
   ]
  },
  {
   "cell_type": "code",
   "execution_count": 14,
   "metadata": {},
   "outputs": [],
   "source": [
    "def octave_width(w):\n",
    "    return mpf(0.23) * w"
   ]
  },
  {
   "cell_type": "code",
   "execution_count": 15,
   "metadata": {},
   "outputs": [],
   "source": [
    "# w - циклическая\n",
    "def full_int(m1, m2, lam1, lam2, w, Uph, p_sq):\n",
    "    coef = (4 / (mp.pi * R * L) ** 2) * (p_sq / octave_width(w))\n",
    "    return coef * int1(L, m1, lam1, w, Uph) * int2(R, m2, lam2)"
   ]
  },
  {
   "cell_type": "code",
   "execution_count": 16,
   "metadata": {},
   "outputs": [],
   "source": [
    "# m1 - вниз, m2 - вправо\n",
    "def B_coef(m1, m2, lam1, lam2, w, Uph, p_sq):\n",
    "    k1 = m1 * mp.pi / L\n",
    "    k2 = m2 / R\n",
    "    den = (D * (k1 ** 2 + k2 ** 2) ** 2 + (E * h * k1 ** 4) / ((R ** 2) * (k1 ** 2 + k2 ** 2) ** 2) - ro * h * (w ** 2)) ** 2 + (beta * w) ** 2\n",
    "    return full_int(m1, m2, lam1, lam2, w, Uph, p_sq) / den"
   ]
  },
  {
   "cell_type": "code",
   "execution_count": 17,
   "metadata": {},
   "outputs": [],
   "source": [
    "def fourier_one(k1, m1):\n",
    "    if mp.almosteq(k1, m1 * mp.pi / L) or mp.almosteq(k1, -m1 * mp.pi / L):\n",
    "        return (L ** 2) / 4\n",
    "    coef = mp.pi * L * m1\n",
    "    num = (((-1) ** m1) * mp.exp(mpc(-1j) * L * k1) - 1) / ((L*k1) ** 2 - (mp.pi * m1) ** 2)\n",
    "    return mp.fabs(coef * num) ** 2"
   ]
  },
  {
   "cell_type": "code",
   "execution_count": 18,
   "metadata": {},
   "outputs": [],
   "source": [
    "def fourier_two(k2, m2):\n",
    "    if mp.almosteq(k2, m2 / R) or mp.almosteq(k2, -m2 / R):\n",
    "        return (mp.pi * R) ** 2\n",
    "    coef = mpc(1j) * R ** 2\n",
    "    num = k2 * (mp.exp(-2 * mpc(1j) * mp.pi * R * k2) - 1) / ((R * k2) ** 2 - m2 ** 2)\n",
    "    return mp.fabs(coef * num) ** 2"
   ]
  },
  {
   "cell_type": "code",
   "execution_count": 19,
   "metadata": {},
   "outputs": [],
   "source": [
    "def v_sq(k1, k2, lam1, lam2, w, Uph, p_sq):\n",
    "    f = lambda m1, m2: (w ** 2) * B_coef(m1, m2, lam1, lam2, w, Uph, p_sq) * fourier_one(k1, m1) * fourier_two(k2, m2)\n",
    "    return mp.nsum(f, [1, 20], [1, 20])"
   ]
  },
  {
   "cell_type": "code",
   "execution_count": 20,
   "metadata": {},
   "outputs": [],
   "source": [
    "def integrant(k1, k2, lam1, lam2, w, Uph, p_sq):\n",
    "    k0 = w / c\n",
    "    return v_sq(k1, k2, lam1, lam2, w, Uph, p_sq) / mp.sqrt(k0 ** 2 - (k1 ** 2 + k2 ** 2))"
   ]
  },
  {
   "cell_type": "code",
   "execution_count": 26,
   "metadata": {},
   "outputs": [],
   "source": [
    "__, lam1, lam2, __, p_sq, Uph, w = get_params(6).values()\n",
    "k0 = w / c\n",
    "f = lambda k1 : mp.quad(lambda k2: integrant(k1, k2, lam1, lam2, w, Uph, p_sq), [-mp.sqrt(k0**2 - k1**2), mp.sqrt(k0**2 - k1**2)])"
   ]
  },
  {
   "cell_type": "code",
   "execution_count": 34,
   "metadata": {},
   "outputs": [
    {
     "name": "stdout",
     "output_type": "stream",
     "text": [
      "Integrating from 0 to 2.30999 (degree 1 of 7)\n",
      "Integrating from 0 to 2.30999 (degree 2 of 7)\n",
      "Estimated error: 4.67455e-19\n",
      "Integrating from 0 to 2.30999 (degree 3 of 7)\n",
      "Estimated error: 1.0e-21\n",
      "Integrating from 0 to 2.30999 (degree 4 of 7)\n"
     ]
    }
   ],
   "source": [
    "g = lambda r, phi: r * integrant(r * mp.cos(phi), r * mp.sin(phi), lam1, lam2, w, Uph, p_sq)\n",
    "res, error = mp.quad(g, [0, w / c], [0, 2 * mp.pi], error=True, verbose=True, method='tanh-sinh')"
   ]
  },
  {
   "cell_type": "code",
   "execution_count": 35,
   "metadata": {},
   "outputs": [
    {
     "data": {
      "text/plain": [
       "mpc(real='5.1844652391055825324584e-17', imag='-1.5793688802317564651152e-28')"
      ]
     },
     "execution_count": 35,
     "metadata": {},
     "output_type": "execute_result"
    }
   ],
   "source": [
    "res"
   ]
  },
  {
   "cell_type": "code",
   "execution_count": 31,
   "metadata": {},
   "outputs": [
    {
     "data": {
      "text/plain": [
       "mpc(real='-139.42760715155158991437', imag='-6.0711943221239503989143e-11')"
      ]
     },
     "execution_count": 31,
     "metadata": {},
     "output_type": "execute_result"
    }
   ],
   "source": [
    "10 * mp.log10(res * 1.2 * w / 2)"
   ]
  },
  {
   "cell_type": "code",
   "execution_count": 34,
   "metadata": {},
   "outputs": [
    {
     "data": {
      "text/plain": [
       "mpf('1.0e-28')"
      ]
     },
     "execution_count": 34,
     "metadata": {},
     "output_type": "execute_result"
    }
   ],
   "source": [
    "error"
   ]
  },
  {
   "cell_type": "code",
   "execution_count": 29,
   "metadata": {},
   "outputs": [
    {
     "data": {
      "text/plain": [
       "mpc(real='6.5585203203187020840168e-18', imag='-6.2055272719605799686854e-29')"
      ]
     },
     "execution_count": 29,
     "metadata": {},
     "output_type": "execute_result"
    }
   ],
   "source": [
    "res"
   ]
  },
  {
   "cell_type": "code",
   "execution_count": null,
   "metadata": {},
   "outputs": [],
   "source": []
  }
 ],
 "metadata": {
  "kernelspec": {
   "display_name": "Python 3",
   "language": "python",
   "name": "python3"
  },
  "language_info": {
   "codemirror_mode": {
    "name": "ipython",
    "version": 3
   },
   "file_extension": ".py",
   "mimetype": "text/x-python",
   "name": "python",
   "nbconvert_exporter": "python",
   "pygments_lexer": "ipython3",
   "version": "3.8.5"
  }
 },
 "nbformat": 4,
 "nbformat_minor": 4
}
